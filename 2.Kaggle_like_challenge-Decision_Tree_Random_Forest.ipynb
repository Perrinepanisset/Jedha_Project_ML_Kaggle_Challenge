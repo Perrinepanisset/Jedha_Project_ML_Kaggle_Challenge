{
 "cells": [
  {
   "cell_type": "markdown",
   "metadata": {},
   "source": [
    "## KAGGLE LIKE CHALLENGE"
   ]
  },
  {
   "cell_type": "code",
   "execution_count": 71,
   "metadata": {
    "colab": {},
    "colab_type": "code",
    "id": "AGhdl7Bt2xZd"
   },
   "outputs": [],
   "source": [
    "import pandas as pd\n",
    "import numpy as np\n",
    "\n",
    "from sklearn.model_selection import train_test_split\n",
    "from sklearn.impute import SimpleImputer\n",
    "from sklearn.preprocessing import StandardScaler\n",
    "from sklearn.compose import ColumnTransformer\n",
    "from sklearn.tree import DecisionTreeClassifier, RandomForestClassifier\n",
    "from sklearn.metrics import f1_score, confusion_matrix, classification_report\n",
    "from sklearn.model_selection import GridSearchCV\n",
    "\n",
    "import matplotlib.pyplot as plt\n",
    "import seaborn as sns\n",
    "%matplotlib inline\n",
    "from IPython.display import display\n",
    "\n",
    "import warnings\n",
    "warnings.filterwarnings('ignore')"
   ]
  },
  {
   "cell_type": "markdown",
   "metadata": {
    "colab_type": "text",
    "id": "LHgro65rxKF7"
   },
   "source": [
    "# Read file with labels"
   ]
  },
  {
   "cell_type": "code",
   "execution_count": 72,
   "metadata": {
    "colab": {
     "base_uri": "https://localhost:8080/",
     "height": 34
    },
    "colab_type": "code",
    "id": "W1AU8AH8u0qd",
    "outputId": "00698a97-027b-493b-a2e4-33fdcc295abb"
   },
   "outputs": [
    {
     "name": "stdout",
     "output_type": "stream",
     "text": [
      "Set with labels (our train+test) : (284580, 6)\n"
     ]
    }
   ],
   "source": [
    "data = pd.read_csv('conversion_data_train.csv')\n",
    "print('Set with labels (our train+test) :', data.shape)"
   ]
  },
  {
   "cell_type": "code",
   "execution_count": 73,
   "metadata": {},
   "outputs": [
    {
     "data": {
      "text/html": [
       "<div>\n",
       "<style scoped>\n",
       "    .dataframe tbody tr th:only-of-type {\n",
       "        vertical-align: middle;\n",
       "    }\n",
       "\n",
       "    .dataframe tbody tr th {\n",
       "        vertical-align: top;\n",
       "    }\n",
       "\n",
       "    .dataframe thead th {\n",
       "        text-align: right;\n",
       "    }\n",
       "</style>\n",
       "<table border=\"1\" class=\"dataframe\">\n",
       "  <thead>\n",
       "    <tr style=\"text-align: right;\">\n",
       "      <th></th>\n",
       "      <th>country</th>\n",
       "      <th>age</th>\n",
       "      <th>new_user</th>\n",
       "      <th>source</th>\n",
       "      <th>total_pages_visited</th>\n",
       "      <th>converted</th>\n",
       "    </tr>\n",
       "  </thead>\n",
       "  <tbody>\n",
       "    <tr>\n",
       "      <th>0</th>\n",
       "      <td>China</td>\n",
       "      <td>22</td>\n",
       "      <td>1</td>\n",
       "      <td>Direct</td>\n",
       "      <td>2</td>\n",
       "      <td>0</td>\n",
       "    </tr>\n",
       "    <tr>\n",
       "      <th>1</th>\n",
       "      <td>UK</td>\n",
       "      <td>21</td>\n",
       "      <td>1</td>\n",
       "      <td>Ads</td>\n",
       "      <td>3</td>\n",
       "      <td>0</td>\n",
       "    </tr>\n",
       "    <tr>\n",
       "      <th>2</th>\n",
       "      <td>Germany</td>\n",
       "      <td>20</td>\n",
       "      <td>0</td>\n",
       "      <td>Seo</td>\n",
       "      <td>14</td>\n",
       "      <td>1</td>\n",
       "    </tr>\n",
       "    <tr>\n",
       "      <th>3</th>\n",
       "      <td>US</td>\n",
       "      <td>23</td>\n",
       "      <td>1</td>\n",
       "      <td>Seo</td>\n",
       "      <td>3</td>\n",
       "      <td>0</td>\n",
       "    </tr>\n",
       "    <tr>\n",
       "      <th>4</th>\n",
       "      <td>US</td>\n",
       "      <td>28</td>\n",
       "      <td>1</td>\n",
       "      <td>Direct</td>\n",
       "      <td>3</td>\n",
       "      <td>0</td>\n",
       "    </tr>\n",
       "  </tbody>\n",
       "</table>\n",
       "</div>"
      ],
      "text/plain": [
       "   country  age  new_user  source  total_pages_visited  converted\n",
       "0    China   22         1  Direct                    2          0\n",
       "1       UK   21         1     Ads                    3          0\n",
       "2  Germany   20         0     Seo                   14          1\n",
       "3       US   23         1     Seo                    3          0\n",
       "4       US   28         1  Direct                    3          0"
      ]
     },
     "execution_count": 73,
     "metadata": {},
     "output_type": "execute_result"
    }
   ],
   "source": [
    "data.head()"
   ]
  },
  {
   "cell_type": "markdown",
   "metadata": {
    "colab_type": "text",
    "id": "70MwsoCS3QD5"
   },
   "source": [
    "# BUILDING THE MODEL"
   ]
  },
  {
   "cell_type": "code",
   "execution_count": 74,
   "metadata": {
    "colab": {},
    "colab_type": "code",
    "id": "sjEHMGoY3kMB"
   },
   "outputs": [],
   "source": [
    "# Choosing relevant variables\n",
    "features_list = ['country', 'age', 'new_user', 'source', 'total_pages_visited']\n",
    "numeric_indices = [1,2,4]\n",
    "categorical_indices = [0,3]\n",
    "target_variable = 'converted'"
   ]
  },
  {
   "cell_type": "code",
   "execution_count": 75,
   "metadata": {
    "colab": {
     "base_uri": "https://localhost:8080/",
     "height": 50
    },
    "colab_type": "code",
    "id": "SV5E9KMs4xcq",
    "outputId": "9d1ed76e-e82e-45e7-f3e5-6d47962caa5a"
   },
   "outputs": [
    {
     "name": "stdout",
     "output_type": "stream",
     "text": [
      "Variables explicatives :  Index(['country', 'age', 'new_user', 'source', 'total_pages_visited'], dtype='object')\n",
      "\n"
     ]
    }
   ],
   "source": [
    "X = data.loc[:, features_list]\n",
    "Y = data.loc[:, target_variable]\n",
    "\n",
    "print('Variables explicatives : ', X.columns)\n",
    "print()"
   ]
  },
  {
   "cell_type": "code",
   "execution_count": 76,
   "metadata": {
    "colab": {
     "base_uri": "https://localhost:8080/",
     "height": 67
    },
    "colab_type": "code",
    "id": "W8K5DQEvvQgl",
    "outputId": "d280ebc9-4d4b-4723-b9fe-32513f898abc"
   },
   "outputs": [
    {
     "name": "stdout",
     "output_type": "stream",
     "text": [
      "Dividing into train and test sets...\n",
      "...Done.\n",
      "\n"
     ]
    }
   ],
   "source": [
    "# Dividing dataset Train set & Test set \n",
    "print(\"Dividing into train and test sets...\")\n",
    "X_train, X_test, Y_train, Y_test = train_test_split(X, Y, test_size=0.1, random_state=42, stratify = Y)\n",
    "print(\"...Done.\")\n",
    "print()"
   ]
  },
  {
   "cell_type": "code",
   "execution_count": 77,
   "metadata": {
    "colab": {
     "base_uri": "https://localhost:8080/",
     "height": 218
    },
    "colab_type": "code",
    "id": "vVu0eXQD4xVc",
    "outputId": "83a5f553-f50d-44dc-d12a-6cb21e74e4d7"
   },
   "outputs": [
    {
     "name": "stdout",
     "output_type": "stream",
     "text": [
      "Convert pandas DataFrames to numpy arrays...\n",
      "...Done\n",
      "[['China' 30 1 'Seo' 8]\n",
      " ['Germany' 43 0 'Seo' 5]\n",
      " ['US' 41 1 'Direct' 2]\n",
      " ['UK' 29 1 'Ads' 19]\n",
      " ['US' 49 1 'Seo' 4]]\n",
      "[['US' 20 1 'Ads' 5]\n",
      " ['China' 28 1 'Ads' 2]]\n",
      "\n",
      "[0 0 0 1 0]\n",
      "[0 0]\n"
     ]
    }
   ],
   "source": [
    "# Converting pandas DataFrames to numpy arrays before using scikit-learn\n",
    "print(\"Convert pandas DataFrames to numpy arrays...\")\n",
    "X_train = X_train.values\n",
    "X_test = X_test.values\n",
    "Y_train = Y_train.values\n",
    "Y_test = Y_test.values\n",
    "print(\"...Done\")\n",
    "\n",
    "print(X_train[0:5,:])\n",
    "print(X_test[0:2,:])\n",
    "print()\n",
    "print(Y_train[0:5])\n",
    "print(Y_test[0:2])"
   ]
  },
  {
   "cell_type": "markdown",
   "metadata": {
    "colab_type": "text",
    "id": "7b_aU7ij7K3Q"
   },
   "source": [
    "## Features processing"
   ]
  },
  {
   "cell_type": "code",
   "execution_count": 78,
   "metadata": {},
   "outputs": [],
   "source": [
    "from sklearn.pipeline import Pipeline\n",
    "from sklearn.impute import SimpleImputer\n",
    "from sklearn.preprocessing import StandardScaler, OneHotEncoder, PolynomialFeatures, MinMaxScaler\n",
    "from sklearn.compose import ColumnTransformer\n",
    "\n",
    "numeric_transformer = Pipeline(steps=[('scaler', StandardScaler())\n",
    "                                     ]\n",
    "                              )\n",
    "    \n",
    "categorical_transformer = Pipeline(steps=[('encoder', OneHotEncoder(drop='first'))\n",
    "                                         ]\n",
    "                                  )\n",
    "\n",
    "preprocessor = ColumnTransformer(\n",
    "    transformers=[\n",
    "        ('num', numeric_transformer, numeric_indices),\n",
    "        ('cat', categorical_transformer, categorical_indices)\n",
    "    ])"
   ]
  },
  {
   "cell_type": "code",
   "execution_count": 79,
   "metadata": {
    "colab": {
     "base_uri": "https://localhost:8080/",
     "height": 235
    },
    "colab_type": "code",
    "id": "_9bEZ5bn7I5Z",
    "outputId": "ad5c8f97-2d25-4827-f1ee-43c665a97fa0"
   },
   "outputs": [
    {
     "name": "stdout",
     "output_type": "stream",
     "text": [
      "Encoding categorical features and standardizing numerical features...\n",
      "...Done\n",
      "[[-0.06766859  0.67701862  0.93587807  0.          0.          0.\n",
      "   0.          1.        ]\n",
      " [ 1.50460508 -1.47706425  0.03801145  1.          0.          0.\n",
      "   0.          1.        ]\n",
      " [ 1.26271682  0.67701862 -0.85985517  0.          0.          1.\n",
      "   1.          0.        ]\n",
      " [-0.18861272  0.67701862  4.22805567  0.          1.          0.\n",
      "   0.          0.        ]\n",
      " [ 2.23026985  0.67701862 -0.26127743  0.          0.          1.\n",
      "   0.          1.        ]]\n"
     ]
    }
   ],
   "source": [
    "# Preprocessing\n",
    "print(\"Encoding categorical features and standardizing numerical features...\")\n",
    "\n",
    "X_train = preprocessor.fit_transform(X_train)\n",
    "X_test = preprocessor.transform(X_test)\n",
    "\n",
    "print(\"...Done\")\n",
    "print(X_train[0:5,:])"
   ]
  },
  {
   "cell_type": "markdown",
   "metadata": {},
   "source": [
    "## MODEL: DECISION TREE"
   ]
  },
  {
   "cell_type": "code",
   "execution_count": 81,
   "metadata": {
    "collapsed": true,
    "jupyter": {
     "outputs_hidden": true
    }
   },
   "outputs": [
    {
     "name": "stdout",
     "output_type": "stream",
     "text": [
      "Fitting 5 folds for each of 20 candidates, totalling 100 fits\n",
      "[CV] max_depth=5, min_samples_split=2 ................................\n"
     ]
    },
    {
     "name": "stderr",
     "output_type": "stream",
     "text": [
      "[Parallel(n_jobs=1)]: Using backend SequentialBackend with 1 concurrent workers.\n"
     ]
    },
    {
     "name": "stdout",
     "output_type": "stream",
     "text": [
      "[CV] ................. max_depth=5, min_samples_split=2, total=   0.3s\n",
      "[CV] max_depth=5, min_samples_split=2 ................................\n"
     ]
    },
    {
     "name": "stderr",
     "output_type": "stream",
     "text": [
      "[Parallel(n_jobs=1)]: Done   1 out of   1 | elapsed:    0.3s remaining:    0.0s\n"
     ]
    },
    {
     "name": "stdout",
     "output_type": "stream",
     "text": [
      "[CV] ................. max_depth=5, min_samples_split=2, total=   0.2s\n",
      "[CV] max_depth=5, min_samples_split=2 ................................\n",
      "[CV] ................. max_depth=5, min_samples_split=2, total=   0.2s\n",
      "[CV] max_depth=5, min_samples_split=2 ................................\n",
      "[CV] ................. max_depth=5, min_samples_split=2, total=   0.2s\n",
      "[CV] max_depth=5, min_samples_split=2 ................................\n",
      "[CV] ................. max_depth=5, min_samples_split=2, total=   0.2s\n",
      "[CV] max_depth=5, min_samples_split=5 ................................\n",
      "[CV] ................. max_depth=5, min_samples_split=5, total=   0.2s\n",
      "[CV] max_depth=5, min_samples_split=5 ................................\n",
      "[CV] ................. max_depth=5, min_samples_split=5, total=   0.2s\n",
      "[CV] max_depth=5, min_samples_split=5 ................................\n",
      "[CV] ................. max_depth=5, min_samples_split=5, total=   0.2s\n",
      "[CV] max_depth=5, min_samples_split=5 ................................\n",
      "[CV] ................. max_depth=5, min_samples_split=5, total=   0.2s\n",
      "[CV] max_depth=5, min_samples_split=5 ................................\n",
      "[CV] ................. max_depth=5, min_samples_split=5, total=   0.2s\n",
      "[CV] max_depth=5, min_samples_split=10 ...............................\n",
      "[CV] ................ max_depth=5, min_samples_split=10, total=   0.2s\n",
      "[CV] max_depth=5, min_samples_split=10 ...............................\n",
      "[CV] ................ max_depth=5, min_samples_split=10, total=   0.2s\n",
      "[CV] max_depth=5, min_samples_split=10 ...............................\n",
      "[CV] ................ max_depth=5, min_samples_split=10, total=   0.2s\n",
      "[CV] max_depth=5, min_samples_split=10 ...............................\n",
      "[CV] ................ max_depth=5, min_samples_split=10, total=   0.2s\n",
      "[CV] max_depth=5, min_samples_split=10 ...............................\n",
      "[CV] ................ max_depth=5, min_samples_split=10, total=   0.2s\n",
      "[CV] max_depth=5, min_samples_split=20 ...............................\n",
      "[CV] ................ max_depth=5, min_samples_split=20, total=   0.2s\n",
      "[CV] max_depth=5, min_samples_split=20 ...............................\n",
      "[CV] ................ max_depth=5, min_samples_split=20, total=   0.2s\n",
      "[CV] max_depth=5, min_samples_split=20 ...............................\n",
      "[CV] ................ max_depth=5, min_samples_split=20, total=   0.2s\n",
      "[CV] max_depth=5, min_samples_split=20 ...............................\n",
      "[CV] ................ max_depth=5, min_samples_split=20, total=   0.2s\n",
      "[CV] max_depth=5, min_samples_split=20 ...............................\n",
      "[CV] ................ max_depth=5, min_samples_split=20, total=   0.2s\n",
      "[CV] max_depth=6, min_samples_split=2 ................................\n",
      "[CV] ................. max_depth=6, min_samples_split=2, total=   0.2s\n",
      "[CV] max_depth=6, min_samples_split=2 ................................\n",
      "[CV] ................. max_depth=6, min_samples_split=2, total=   0.2s\n",
      "[CV] max_depth=6, min_samples_split=2 ................................\n",
      "[CV] ................. max_depth=6, min_samples_split=2, total=   0.3s\n",
      "[CV] max_depth=6, min_samples_split=2 ................................\n",
      "[CV] ................. max_depth=6, min_samples_split=2, total=   0.3s\n",
      "[CV] max_depth=6, min_samples_split=2 ................................\n",
      "[CV] ................. max_depth=6, min_samples_split=2, total=   0.3s\n",
      "[CV] max_depth=6, min_samples_split=5 ................................\n",
      "[CV] ................. max_depth=6, min_samples_split=5, total=   0.3s\n",
      "[CV] max_depth=6, min_samples_split=5 ................................\n",
      "[CV] ................. max_depth=6, min_samples_split=5, total=   0.3s\n",
      "[CV] max_depth=6, min_samples_split=5 ................................\n",
      "[CV] ................. max_depth=6, min_samples_split=5, total=   0.3s\n",
      "[CV] max_depth=6, min_samples_split=5 ................................\n",
      "[CV] ................. max_depth=6, min_samples_split=5, total=   0.2s\n",
      "[CV] max_depth=6, min_samples_split=5 ................................\n",
      "[CV] ................. max_depth=6, min_samples_split=5, total=   0.3s\n",
      "[CV] max_depth=6, min_samples_split=10 ...............................\n",
      "[CV] ................ max_depth=6, min_samples_split=10, total=   0.3s\n",
      "[CV] max_depth=6, min_samples_split=10 ...............................\n",
      "[CV] ................ max_depth=6, min_samples_split=10, total=   0.3s\n",
      "[CV] max_depth=6, min_samples_split=10 ...............................\n",
      "[CV] ................ max_depth=6, min_samples_split=10, total=   0.3s\n",
      "[CV] max_depth=6, min_samples_split=10 ...............................\n",
      "[CV] ................ max_depth=6, min_samples_split=10, total=   0.3s\n",
      "[CV] max_depth=6, min_samples_split=10 ...............................\n",
      "[CV] ................ max_depth=6, min_samples_split=10, total=   0.3s\n",
      "[CV] max_depth=6, min_samples_split=20 ...............................\n",
      "[CV] ................ max_depth=6, min_samples_split=20, total=   0.3s\n",
      "[CV] max_depth=6, min_samples_split=20 ...............................\n",
      "[CV] ................ max_depth=6, min_samples_split=20, total=   0.3s\n",
      "[CV] max_depth=6, min_samples_split=20 ...............................\n",
      "[CV] ................ max_depth=6, min_samples_split=20, total=   0.2s\n",
      "[CV] max_depth=6, min_samples_split=20 ...............................\n",
      "[CV] ................ max_depth=6, min_samples_split=20, total=   0.3s\n",
      "[CV] max_depth=6, min_samples_split=20 ...............................\n",
      "[CV] ................ max_depth=6, min_samples_split=20, total=   0.3s\n",
      "[CV] max_depth=7, min_samples_split=2 ................................\n",
      "[CV] ................. max_depth=7, min_samples_split=2, total=   0.3s\n",
      "[CV] max_depth=7, min_samples_split=2 ................................\n",
      "[CV] ................. max_depth=7, min_samples_split=2, total=   0.3s\n",
      "[CV] max_depth=7, min_samples_split=2 ................................\n",
      "[CV] ................. max_depth=7, min_samples_split=2, total=   0.3s\n",
      "[CV] max_depth=7, min_samples_split=2 ................................\n",
      "[CV] ................. max_depth=7, min_samples_split=2, total=   0.3s\n",
      "[CV] max_depth=7, min_samples_split=2 ................................\n",
      "[CV] ................. max_depth=7, min_samples_split=2, total=   0.3s\n",
      "[CV] max_depth=7, min_samples_split=5 ................................\n",
      "[CV] ................. max_depth=7, min_samples_split=5, total=   0.3s\n",
      "[CV] max_depth=7, min_samples_split=5 ................................\n",
      "[CV] ................. max_depth=7, min_samples_split=5, total=   0.3s\n",
      "[CV] max_depth=7, min_samples_split=5 ................................\n",
      "[CV] ................. max_depth=7, min_samples_split=5, total=   0.3s\n",
      "[CV] max_depth=7, min_samples_split=5 ................................\n",
      "[CV] ................. max_depth=7, min_samples_split=5, total=   0.3s\n",
      "[CV] max_depth=7, min_samples_split=5 ................................\n",
      "[CV] ................. max_depth=7, min_samples_split=5, total=   0.3s\n",
      "[CV] max_depth=7, min_samples_split=10 ...............................\n",
      "[CV] ................ max_depth=7, min_samples_split=10, total=   0.3s\n",
      "[CV] max_depth=7, min_samples_split=10 ...............................\n",
      "[CV] ................ max_depth=7, min_samples_split=10, total=   0.3s\n",
      "[CV] max_depth=7, min_samples_split=10 ...............................\n",
      "[CV] ................ max_depth=7, min_samples_split=10, total=   0.3s\n",
      "[CV] max_depth=7, min_samples_split=10 ...............................\n",
      "[CV] ................ max_depth=7, min_samples_split=10, total=   0.3s\n",
      "[CV] max_depth=7, min_samples_split=10 ...............................\n",
      "[CV] ................ max_depth=7, min_samples_split=10, total=   0.3s\n",
      "[CV] max_depth=7, min_samples_split=20 ...............................\n",
      "[CV] ................ max_depth=7, min_samples_split=20, total=   0.3s\n",
      "[CV] max_depth=7, min_samples_split=20 ...............................\n",
      "[CV] ................ max_depth=7, min_samples_split=20, total=   0.3s\n",
      "[CV] max_depth=7, min_samples_split=20 ...............................\n",
      "[CV] ................ max_depth=7, min_samples_split=20, total=   0.3s\n",
      "[CV] max_depth=7, min_samples_split=20 ...............................\n",
      "[CV] ................ max_depth=7, min_samples_split=20, total=   0.3s\n",
      "[CV] max_depth=7, min_samples_split=20 ...............................\n",
      "[CV] ................ max_depth=7, min_samples_split=20, total=   0.4s\n",
      "[CV] max_depth=8, min_samples_split=2 ................................\n",
      "[CV] ................. max_depth=8, min_samples_split=2, total=   0.3s\n",
      "[CV] max_depth=8, min_samples_split=2 ................................\n",
      "[CV] ................. max_depth=8, min_samples_split=2, total=   0.3s\n",
      "[CV] max_depth=8, min_samples_split=2 ................................\n",
      "[CV] ................. max_depth=8, min_samples_split=2, total=   0.3s\n",
      "[CV] max_depth=8, min_samples_split=2 ................................\n",
      "[CV] ................. max_depth=8, min_samples_split=2, total=   0.3s\n",
      "[CV] max_depth=8, min_samples_split=2 ................................\n",
      "[CV] ................. max_depth=8, min_samples_split=2, total=   0.3s\n",
      "[CV] max_depth=8, min_samples_split=5 ................................\n",
      "[CV] ................. max_depth=8, min_samples_split=5, total=   0.3s\n",
      "[CV] max_depth=8, min_samples_split=5 ................................\n",
      "[CV] ................. max_depth=8, min_samples_split=5, total=   0.3s\n",
      "[CV] max_depth=8, min_samples_split=5 ................................\n",
      "[CV] ................. max_depth=8, min_samples_split=5, total=   0.3s\n",
      "[CV] max_depth=8, min_samples_split=5 ................................\n",
      "[CV] ................. max_depth=8, min_samples_split=5, total=   0.3s\n",
      "[CV] max_depth=8, min_samples_split=5 ................................\n",
      "[CV] ................. max_depth=8, min_samples_split=5, total=   0.3s\n",
      "[CV] max_depth=8, min_samples_split=10 ...............................\n",
      "[CV] ................ max_depth=8, min_samples_split=10, total=   0.3s\n",
      "[CV] max_depth=8, min_samples_split=10 ...............................\n",
      "[CV] ................ max_depth=8, min_samples_split=10, total=   0.3s\n",
      "[CV] max_depth=8, min_samples_split=10 ...............................\n",
      "[CV] ................ max_depth=8, min_samples_split=10, total=   0.3s\n",
      "[CV] max_depth=8, min_samples_split=10 ...............................\n",
      "[CV] ................ max_depth=8, min_samples_split=10, total=   0.3s\n",
      "[CV] max_depth=8, min_samples_split=10 ...............................\n",
      "[CV] ................ max_depth=8, min_samples_split=10, total=   0.3s\n",
      "[CV] max_depth=8, min_samples_split=20 ...............................\n",
      "[CV] ................ max_depth=8, min_samples_split=20, total=   0.3s\n",
      "[CV] max_depth=8, min_samples_split=20 ...............................\n",
      "[CV] ................ max_depth=8, min_samples_split=20, total=   0.3s\n",
      "[CV] max_depth=8, min_samples_split=20 ...............................\n",
      "[CV] ................ max_depth=8, min_samples_split=20, total=   0.3s\n",
      "[CV] max_depth=8, min_samples_split=20 ...............................\n",
      "[CV] ................ max_depth=8, min_samples_split=20, total=   0.3s\n",
      "[CV] max_depth=8, min_samples_split=20 ...............................\n",
      "[CV] ................ max_depth=8, min_samples_split=20, total=   0.3s\n",
      "[CV] max_depth=9, min_samples_split=2 ................................\n",
      "[CV] ................. max_depth=9, min_samples_split=2, total=   0.3s\n",
      "[CV] max_depth=9, min_samples_split=2 ................................\n",
      "[CV] ................. max_depth=9, min_samples_split=2, total=   0.4s\n",
      "[CV] max_depth=9, min_samples_split=2 ................................\n",
      "[CV] ................. max_depth=9, min_samples_split=2, total=   0.4s\n",
      "[CV] max_depth=9, min_samples_split=2 ................................\n",
      "[CV] ................. max_depth=9, min_samples_split=2, total=   0.4s\n",
      "[CV] max_depth=9, min_samples_split=2 ................................\n",
      "[CV] ................. max_depth=9, min_samples_split=2, total=   0.4s\n",
      "[CV] max_depth=9, min_samples_split=5 ................................\n",
      "[CV] ................. max_depth=9, min_samples_split=5, total=   0.3s\n",
      "[CV] max_depth=9, min_samples_split=5 ................................\n",
      "[CV] ................. max_depth=9, min_samples_split=5, total=   0.3s\n",
      "[CV] max_depth=9, min_samples_split=5 ................................\n",
      "[CV] ................. max_depth=9, min_samples_split=5, total=   0.4s\n",
      "[CV] max_depth=9, min_samples_split=5 ................................\n",
      "[CV] ................. max_depth=9, min_samples_split=5, total=   0.3s\n",
      "[CV] max_depth=9, min_samples_split=5 ................................\n",
      "[CV] ................. max_depth=9, min_samples_split=5, total=   0.3s\n",
      "[CV] max_depth=9, min_samples_split=10 ...............................\n",
      "[CV] ................ max_depth=9, min_samples_split=10, total=   0.3s\n",
      "[CV] max_depth=9, min_samples_split=10 ...............................\n",
      "[CV] ................ max_depth=9, min_samples_split=10, total=   0.3s\n",
      "[CV] max_depth=9, min_samples_split=10 ...............................\n",
      "[CV] ................ max_depth=9, min_samples_split=10, total=   0.3s\n",
      "[CV] max_depth=9, min_samples_split=10 ...............................\n",
      "[CV] ................ max_depth=9, min_samples_split=10, total=   0.3s\n",
      "[CV] max_depth=9, min_samples_split=10 ...............................\n",
      "[CV] ................ max_depth=9, min_samples_split=10, total=   0.3s\n",
      "[CV] max_depth=9, min_samples_split=20 ...............................\n",
      "[CV] ................ max_depth=9, min_samples_split=20, total=   0.3s\n",
      "[CV] max_depth=9, min_samples_split=20 ...............................\n",
      "[CV] ................ max_depth=9, min_samples_split=20, total=   0.3s\n",
      "[CV] max_depth=9, min_samples_split=20 ...............................\n",
      "[CV] ................ max_depth=9, min_samples_split=20, total=   0.3s\n",
      "[CV] max_depth=9, min_samples_split=20 ...............................\n",
      "[CV] ................ max_depth=9, min_samples_split=20, total=   0.3s\n",
      "[CV] max_depth=9, min_samples_split=20 ...............................\n",
      "[CV] ................ max_depth=9, min_samples_split=20, total=   0.4s\n"
     ]
    },
    {
     "name": "stderr",
     "output_type": "stream",
     "text": [
      "[Parallel(n_jobs=1)]: Done 100 out of 100 | elapsed:   28.4s finished\n"
     ]
    },
    {
     "data": {
      "text/plain": [
       "GridSearchCV(cv=5, estimator=DecisionTreeClassifier(),\n",
       "             param_grid={'max_depth': [5, 6, 7, 8, 9],\n",
       "                         'min_samples_split': [2, 5, 10, 20]},\n",
       "             verbose=2)"
      ]
     },
     "execution_count": 81,
     "metadata": {},
     "output_type": "execute_result"
    }
   ],
   "source": [
    "# Determining best hyperparameters\n",
    "\n",
    "max_depth = [5, 6, 7, 8, 9]\n",
    "min_samples_split = [2, 5, 10, 20]\n",
    "\n",
    "dt_grid = GridSearchCV(estimator=DecisionTreeClassifier(), cv=5,\n",
    "                       param_grid={\"max_depth\":max_depth, \"min_samples_split\":min_samples_split},\n",
    "                      verbose=2)\n",
    "\n",
    "dt_grid.fit(X_train, Y_train)"
   ]
  },
  {
   "cell_type": "code",
   "execution_count": 82,
   "metadata": {},
   "outputs": [
    {
     "name": "stdout",
     "output_type": "stream",
     "text": [
      "Hyperparameters that give the best score :  {'max_depth': 9, 'min_samples_split': 20}\n",
      "Best score :  0.9852882615038231\n",
      "...Done.\n"
     ]
    }
   ],
   "source": [
    "print(\"Hyperparameters that give the best score : \", dt_grid.best_params_)\n",
    "print(\"Best score : \", dt_grid.best_score_)\n",
    "\n",
    "print(\"...Done.\")"
   ]
  },
  {
   "cell_type": "code",
   "execution_count": 83,
   "metadata": {},
   "outputs": [
    {
     "data": {
      "text/plain": [
       "DecisionTreeClassifier(max_depth=9, min_samples_split=20)"
      ]
     },
     "execution_count": 83,
     "metadata": {},
     "output_type": "execute_result"
    }
   ],
   "source": [
    "dt = DecisionTreeClassifier(max_depth=dt_grid.best_params_['max_depth'],\n",
    "                           min_samples_split=dt_grid.best_params_['min_samples_split'])\n",
    "dt.fit(X_train, Y_train)"
   ]
  },
  {
   "cell_type": "code",
   "execution_count": 84,
   "metadata": {},
   "outputs": [
    {
     "name": "stdout",
     "output_type": "stream",
     "text": [
      "Predictions on training set...\n",
      "...Done.\n",
      "[0 0 0 ... 0 0 0]\n",
      "\n",
      "Predictions on test set...\n",
      "...Done.\n",
      "[0 0 0 ... 0 0 0]\n",
      "\n"
     ]
    }
   ],
   "source": [
    "# Predictions on training set\n",
    "print(\"Predictions on training set...\")\n",
    "Y_train_pred = dt.predict(X_train)\n",
    "print(\"...Done.\")\n",
    "print(Y_train_pred)\n",
    "print()\n",
    "\n",
    "# Predictions on test set\n",
    "print(\"Predictions on test set...\")\n",
    "Y_test_pred = dt.predict(X_test)\n",
    "print(\"...Done.\")\n",
    "print(Y_test_pred)\n",
    "print()"
   ]
  },
  {
   "cell_type": "markdown",
   "metadata": {},
   "source": [
    "### PERFORMANCE ASSESSMENT"
   ]
  },
  {
   "cell_type": "code",
   "execution_count": 85,
   "metadata": {},
   "outputs": [
    {
     "name": "stdout",
     "output_type": "stream",
     "text": [
      "f1-score on train set :  0.7671454582237507\n",
      "f1-score on test set :  0.7569866342648846\n"
     ]
    }
   ],
   "source": [
    "# The f1-score will be used to assess the performances on the leaderboard\n",
    "print(\"f1-score on train set : \", f1_score(Y_train, dt.predict(X_train)))\n",
    "print(\"f1-score on test set : \", f1_score(Y_test, dt.predict(X_test)))"
   ]
  },
  {
   "cell_type": "code",
   "execution_count": 86,
   "metadata": {},
   "outputs": [
    {
     "name": "stdout",
     "output_type": "stream",
     "text": [
      "              precision    recall  f1-score   support\n",
      "\n",
      "           0       0.99      1.00      0.99     27540\n",
      "           1       0.86      0.68      0.76       918\n",
      "\n",
      "    accuracy                           0.99     28458\n",
      "   macro avg       0.92      0.84      0.87     28458\n",
      "weighted avg       0.99      0.99      0.99     28458\n",
      "\n"
     ]
    }
   ],
   "source": [
    "# Computing other performance metrics to better understand what the model is doing\n",
    "from sklearn.metrics import classification_report\n",
    "print(classification_report(Y_test, dt.predict(X_test)))"
   ]
  },
  {
   "cell_type": "markdown",
   "metadata": {},
   "source": [
    "## MODEL: RANDOM FOREST"
   ]
  },
  {
   "cell_type": "code",
   "execution_count": 87,
   "metadata": {
    "collapsed": true,
    "jupyter": {
     "outputs_hidden": true
    }
   },
   "outputs": [
    {
     "name": "stdout",
     "output_type": "stream",
     "text": [
      "Fitting 5 folds for each of 72 candidates, totalling 360 fits\n",
      "[CV] max_depth=4, min_samples_split=2, n_estimators=10 ...............\n"
     ]
    },
    {
     "name": "stderr",
     "output_type": "stream",
     "text": [
      "[Parallel(n_jobs=1)]: Using backend SequentialBackend with 1 concurrent workers.\n"
     ]
    },
    {
     "name": "stdout",
     "output_type": "stream",
     "text": [
      "[CV]  max_depth=4, min_samples_split=2, n_estimators=10, total=   0.6s\n",
      "[CV] max_depth=4, min_samples_split=2, n_estimators=10 ...............\n"
     ]
    },
    {
     "name": "stderr",
     "output_type": "stream",
     "text": [
      "[Parallel(n_jobs=1)]: Done   1 out of   1 | elapsed:    0.6s remaining:    0.0s\n"
     ]
    },
    {
     "name": "stdout",
     "output_type": "stream",
     "text": [
      "[CV]  max_depth=4, min_samples_split=2, n_estimators=10, total=   0.5s\n",
      "[CV] max_depth=4, min_samples_split=2, n_estimators=10 ...............\n",
      "[CV]  max_depth=4, min_samples_split=2, n_estimators=10, total=   0.5s\n",
      "[CV] max_depth=4, min_samples_split=2, n_estimators=10 ...............\n",
      "[CV]  max_depth=4, min_samples_split=2, n_estimators=10, total=   0.5s\n",
      "[CV] max_depth=4, min_samples_split=2, n_estimators=10 ...............\n",
      "[CV]  max_depth=4, min_samples_split=2, n_estimators=10, total=   0.6s\n",
      "[CV] max_depth=4, min_samples_split=2, n_estimators=20 ...............\n",
      "[CV]  max_depth=4, min_samples_split=2, n_estimators=20, total=   1.0s\n",
      "[CV] max_depth=4, min_samples_split=2, n_estimators=20 ...............\n",
      "[CV]  max_depth=4, min_samples_split=2, n_estimators=20, total=   1.1s\n",
      "[CV] max_depth=4, min_samples_split=2, n_estimators=20 ...............\n",
      "[CV]  max_depth=4, min_samples_split=2, n_estimators=20, total=   1.1s\n",
      "[CV] max_depth=4, min_samples_split=2, n_estimators=20 ...............\n",
      "[CV]  max_depth=4, min_samples_split=2, n_estimators=20, total=   1.1s\n",
      "[CV] max_depth=4, min_samples_split=2, n_estimators=20 ...............\n",
      "[CV]  max_depth=4, min_samples_split=2, n_estimators=20, total=   1.1s\n",
      "[CV] max_depth=4, min_samples_split=2, n_estimators=30 ...............\n",
      "[CV]  max_depth=4, min_samples_split=2, n_estimators=30, total=   1.7s\n",
      "[CV] max_depth=4, min_samples_split=2, n_estimators=30 ...............\n",
      "[CV]  max_depth=4, min_samples_split=2, n_estimators=30, total=   1.6s\n",
      "[CV] max_depth=4, min_samples_split=2, n_estimators=30 ...............\n",
      "[CV]  max_depth=4, min_samples_split=2, n_estimators=30, total=   1.7s\n",
      "[CV] max_depth=4, min_samples_split=2, n_estimators=30 ...............\n",
      "[CV]  max_depth=4, min_samples_split=2, n_estimators=30, total=   1.7s\n",
      "[CV] max_depth=4, min_samples_split=2, n_estimators=30 ...............\n",
      "[CV]  max_depth=4, min_samples_split=2, n_estimators=30, total=   1.6s\n",
      "[CV] max_depth=4, min_samples_split=5, n_estimators=10 ...............\n",
      "[CV]  max_depth=4, min_samples_split=5, n_estimators=10, total=   0.6s\n",
      "[CV] max_depth=4, min_samples_split=5, n_estimators=10 ...............\n",
      "[CV]  max_depth=4, min_samples_split=5, n_estimators=10, total=   0.6s\n",
      "[CV] max_depth=4, min_samples_split=5, n_estimators=10 ...............\n",
      "[CV]  max_depth=4, min_samples_split=5, n_estimators=10, total=   0.6s\n",
      "[CV] max_depth=4, min_samples_split=5, n_estimators=10 ...............\n",
      "[CV]  max_depth=4, min_samples_split=5, n_estimators=10, total=   0.6s\n",
      "[CV] max_depth=4, min_samples_split=5, n_estimators=10 ...............\n",
      "[CV]  max_depth=4, min_samples_split=5, n_estimators=10, total=   0.6s\n",
      "[CV] max_depth=4, min_samples_split=5, n_estimators=20 ...............\n",
      "[CV]  max_depth=4, min_samples_split=5, n_estimators=20, total=   1.2s\n",
      "[CV] max_depth=4, min_samples_split=5, n_estimators=20 ...............\n",
      "[CV]  max_depth=4, min_samples_split=5, n_estimators=20, total=   1.2s\n",
      "[CV] max_depth=4, min_samples_split=5, n_estimators=20 ...............\n",
      "[CV]  max_depth=4, min_samples_split=5, n_estimators=20, total=   1.2s\n",
      "[CV] max_depth=4, min_samples_split=5, n_estimators=20 ...............\n",
      "[CV]  max_depth=4, min_samples_split=5, n_estimators=20, total=   1.2s\n",
      "[CV] max_depth=4, min_samples_split=5, n_estimators=20 ...............\n",
      "[CV]  max_depth=4, min_samples_split=5, n_estimators=20, total=   1.1s\n",
      "[CV] max_depth=4, min_samples_split=5, n_estimators=30 ...............\n",
      "[CV]  max_depth=4, min_samples_split=5, n_estimators=30, total=   1.6s\n",
      "[CV] max_depth=4, min_samples_split=5, n_estimators=30 ...............\n",
      "[CV]  max_depth=4, min_samples_split=5, n_estimators=30, total=   1.7s\n",
      "[CV] max_depth=4, min_samples_split=5, n_estimators=30 ...............\n",
      "[CV]  max_depth=4, min_samples_split=5, n_estimators=30, total=   1.7s\n",
      "[CV] max_depth=4, min_samples_split=5, n_estimators=30 ...............\n",
      "[CV]  max_depth=4, min_samples_split=5, n_estimators=30, total=   1.6s\n",
      "[CV] max_depth=4, min_samples_split=5, n_estimators=30 ...............\n",
      "[CV]  max_depth=4, min_samples_split=5, n_estimators=30, total=   1.7s\n",
      "[CV] max_depth=4, min_samples_split=10, n_estimators=10 ..............\n",
      "[CV]  max_depth=4, min_samples_split=10, n_estimators=10, total=   0.6s\n",
      "[CV] max_depth=4, min_samples_split=10, n_estimators=10 ..............\n",
      "[CV]  max_depth=4, min_samples_split=10, n_estimators=10, total=   0.6s\n",
      "[CV] max_depth=4, min_samples_split=10, n_estimators=10 ..............\n",
      "[CV]  max_depth=4, min_samples_split=10, n_estimators=10, total=   0.6s\n",
      "[CV] max_depth=4, min_samples_split=10, n_estimators=10 ..............\n",
      "[CV]  max_depth=4, min_samples_split=10, n_estimators=10, total=   0.6s\n",
      "[CV] max_depth=4, min_samples_split=10, n_estimators=10 ..............\n",
      "[CV]  max_depth=4, min_samples_split=10, n_estimators=10, total=   0.6s\n",
      "[CV] max_depth=4, min_samples_split=10, n_estimators=20 ..............\n",
      "[CV]  max_depth=4, min_samples_split=10, n_estimators=20, total=   1.1s\n",
      "[CV] max_depth=4, min_samples_split=10, n_estimators=20 ..............\n",
      "[CV]  max_depth=4, min_samples_split=10, n_estimators=20, total=   1.2s\n",
      "[CV] max_depth=4, min_samples_split=10, n_estimators=20 ..............\n",
      "[CV]  max_depth=4, min_samples_split=10, n_estimators=20, total=   1.1s\n",
      "[CV] max_depth=4, min_samples_split=10, n_estimators=20 ..............\n",
      "[CV]  max_depth=4, min_samples_split=10, n_estimators=20, total=   1.1s\n",
      "[CV] max_depth=4, min_samples_split=10, n_estimators=20 ..............\n",
      "[CV]  max_depth=4, min_samples_split=10, n_estimators=20, total=   1.1s\n",
      "[CV] max_depth=4, min_samples_split=10, n_estimators=30 ..............\n",
      "[CV]  max_depth=4, min_samples_split=10, n_estimators=30, total=   1.7s\n",
      "[CV] max_depth=4, min_samples_split=10, n_estimators=30 ..............\n",
      "[CV]  max_depth=4, min_samples_split=10, n_estimators=30, total=   1.6s\n",
      "[CV] max_depth=4, min_samples_split=10, n_estimators=30 ..............\n",
      "[CV]  max_depth=4, min_samples_split=10, n_estimators=30, total=   1.6s\n",
      "[CV] max_depth=4, min_samples_split=10, n_estimators=30 ..............\n",
      "[CV]  max_depth=4, min_samples_split=10, n_estimators=30, total=   1.6s\n",
      "[CV] max_depth=4, min_samples_split=10, n_estimators=30 ..............\n",
      "[CV]  max_depth=4, min_samples_split=10, n_estimators=30, total=   1.6s\n",
      "[CV] max_depth=4, min_samples_split=20, n_estimators=10 ..............\n",
      "[CV]  max_depth=4, min_samples_split=20, n_estimators=10, total=   0.6s\n",
      "[CV] max_depth=4, min_samples_split=20, n_estimators=10 ..............\n",
      "[CV]  max_depth=4, min_samples_split=20, n_estimators=10, total=   0.6s\n",
      "[CV] max_depth=4, min_samples_split=20, n_estimators=10 ..............\n",
      "[CV]  max_depth=4, min_samples_split=20, n_estimators=10, total=   0.6s\n",
      "[CV] max_depth=4, min_samples_split=20, n_estimators=10 ..............\n",
      "[CV]  max_depth=4, min_samples_split=20, n_estimators=10, total=   0.5s\n",
      "[CV] max_depth=4, min_samples_split=20, n_estimators=10 ..............\n",
      "[CV]  max_depth=4, min_samples_split=20, n_estimators=10, total=   0.5s\n",
      "[CV] max_depth=4, min_samples_split=20, n_estimators=20 ..............\n",
      "[CV]  max_depth=4, min_samples_split=20, n_estimators=20, total=   1.2s\n",
      "[CV] max_depth=4, min_samples_split=20, n_estimators=20 ..............\n",
      "[CV]  max_depth=4, min_samples_split=20, n_estimators=20, total=   1.2s\n",
      "[CV] max_depth=4, min_samples_split=20, n_estimators=20 ..............\n",
      "[CV]  max_depth=4, min_samples_split=20, n_estimators=20, total=   1.1s\n",
      "[CV] max_depth=4, min_samples_split=20, n_estimators=20 ..............\n",
      "[CV]  max_depth=4, min_samples_split=20, n_estimators=20, total=   1.2s\n",
      "[CV] max_depth=4, min_samples_split=20, n_estimators=20 ..............\n",
      "[CV]  max_depth=4, min_samples_split=20, n_estimators=20, total=   1.1s\n",
      "[CV] max_depth=4, min_samples_split=20, n_estimators=30 ..............\n",
      "[CV]  max_depth=4, min_samples_split=20, n_estimators=30, total=   1.7s\n",
      "[CV] max_depth=4, min_samples_split=20, n_estimators=30 ..............\n",
      "[CV]  max_depth=4, min_samples_split=20, n_estimators=30, total=   1.7s\n",
      "[CV] max_depth=4, min_samples_split=20, n_estimators=30 ..............\n",
      "[CV]  max_depth=4, min_samples_split=20, n_estimators=30, total=   1.6s\n",
      "[CV] max_depth=4, min_samples_split=20, n_estimators=30 ..............\n",
      "[CV]  max_depth=4, min_samples_split=20, n_estimators=30, total=   1.7s\n",
      "[CV] max_depth=4, min_samples_split=20, n_estimators=30 ..............\n",
      "[CV]  max_depth=4, min_samples_split=20, n_estimators=30, total=   1.7s\n",
      "[CV] max_depth=5, min_samples_split=2, n_estimators=10 ...............\n",
      "[CV]  max_depth=5, min_samples_split=2, n_estimators=10, total=   0.6s\n",
      "[CV] max_depth=5, min_samples_split=2, n_estimators=10 ...............\n",
      "[CV]  max_depth=5, min_samples_split=2, n_estimators=10, total=   0.6s\n",
      "[CV] max_depth=5, min_samples_split=2, n_estimators=10 ...............\n",
      "[CV]  max_depth=5, min_samples_split=2, n_estimators=10, total=   0.6s\n",
      "[CV] max_depth=5, min_samples_split=2, n_estimators=10 ...............\n",
      "[CV]  max_depth=5, min_samples_split=2, n_estimators=10, total=   0.7s\n",
      "[CV] max_depth=5, min_samples_split=2, n_estimators=10 ...............\n",
      "[CV]  max_depth=5, min_samples_split=2, n_estimators=10, total=   0.6s\n",
      "[CV] max_depth=5, min_samples_split=2, n_estimators=20 ...............\n",
      "[CV]  max_depth=5, min_samples_split=2, n_estimators=20, total=   1.3s\n",
      "[CV] max_depth=5, min_samples_split=2, n_estimators=20 ...............\n",
      "[CV]  max_depth=5, min_samples_split=2, n_estimators=20, total=   1.3s\n",
      "[CV] max_depth=5, min_samples_split=2, n_estimators=20 ...............\n",
      "[CV]  max_depth=5, min_samples_split=2, n_estimators=20, total=   1.2s\n",
      "[CV] max_depth=5, min_samples_split=2, n_estimators=20 ...............\n",
      "[CV]  max_depth=5, min_samples_split=2, n_estimators=20, total=   1.3s\n",
      "[CV] max_depth=5, min_samples_split=2, n_estimators=20 ...............\n",
      "[CV]  max_depth=5, min_samples_split=2, n_estimators=20, total=   1.2s\n",
      "[CV] max_depth=5, min_samples_split=2, n_estimators=30 ...............\n",
      "[CV]  max_depth=5, min_samples_split=2, n_estimators=30, total=   1.9s\n",
      "[CV] max_depth=5, min_samples_split=2, n_estimators=30 ...............\n",
      "[CV]  max_depth=5, min_samples_split=2, n_estimators=30, total=   1.8s\n",
      "[CV] max_depth=5, min_samples_split=2, n_estimators=30 ...............\n",
      "[CV]  max_depth=5, min_samples_split=2, n_estimators=30, total=   1.8s\n",
      "[CV] max_depth=5, min_samples_split=2, n_estimators=30 ...............\n",
      "[CV]  max_depth=5, min_samples_split=2, n_estimators=30, total=   1.8s\n",
      "[CV] max_depth=5, min_samples_split=2, n_estimators=30 ...............\n",
      "[CV]  max_depth=5, min_samples_split=2, n_estimators=30, total=   1.9s\n",
      "[CV] max_depth=5, min_samples_split=5, n_estimators=10 ...............\n",
      "[CV]  max_depth=5, min_samples_split=5, n_estimators=10, total=   0.6s\n",
      "[CV] max_depth=5, min_samples_split=5, n_estimators=10 ...............\n",
      "[CV]  max_depth=5, min_samples_split=5, n_estimators=10, total=   0.7s\n",
      "[CV] max_depth=5, min_samples_split=5, n_estimators=10 ...............\n",
      "[CV]  max_depth=5, min_samples_split=5, n_estimators=10, total=   0.6s\n",
      "[CV] max_depth=5, min_samples_split=5, n_estimators=10 ...............\n",
      "[CV]  max_depth=5, min_samples_split=5, n_estimators=10, total=   0.6s\n",
      "[CV] max_depth=5, min_samples_split=5, n_estimators=10 ...............\n",
      "[CV]  max_depth=5, min_samples_split=5, n_estimators=10, total=   0.7s\n",
      "[CV] max_depth=5, min_samples_split=5, n_estimators=20 ...............\n",
      "[CV]  max_depth=5, min_samples_split=5, n_estimators=20, total=   1.2s\n",
      "[CV] max_depth=5, min_samples_split=5, n_estimators=20 ...............\n",
      "[CV]  max_depth=5, min_samples_split=5, n_estimators=20, total=   1.2s\n",
      "[CV] max_depth=5, min_samples_split=5, n_estimators=20 ...............\n",
      "[CV]  max_depth=5, min_samples_split=5, n_estimators=20, total=   1.3s\n",
      "[CV] max_depth=5, min_samples_split=5, n_estimators=20 ...............\n",
      "[CV]  max_depth=5, min_samples_split=5, n_estimators=20, total=   1.3s\n",
      "[CV] max_depth=5, min_samples_split=5, n_estimators=20 ...............\n",
      "[CV]  max_depth=5, min_samples_split=5, n_estimators=20, total=   1.3s\n",
      "[CV] max_depth=5, min_samples_split=5, n_estimators=30 ...............\n",
      "[CV]  max_depth=5, min_samples_split=5, n_estimators=30, total=   1.9s\n",
      "[CV] max_depth=5, min_samples_split=5, n_estimators=30 ...............\n",
      "[CV]  max_depth=5, min_samples_split=5, n_estimators=30, total=   1.9s\n",
      "[CV] max_depth=5, min_samples_split=5, n_estimators=30 ...............\n",
      "[CV]  max_depth=5, min_samples_split=5, n_estimators=30, total=   1.9s\n",
      "[CV] max_depth=5, min_samples_split=5, n_estimators=30 ...............\n",
      "[CV]  max_depth=5, min_samples_split=5, n_estimators=30, total=   1.8s\n",
      "[CV] max_depth=5, min_samples_split=5, n_estimators=30 ...............\n",
      "[CV]  max_depth=5, min_samples_split=5, n_estimators=30, total=   1.9s\n",
      "[CV] max_depth=5, min_samples_split=10, n_estimators=10 ..............\n",
      "[CV]  max_depth=5, min_samples_split=10, n_estimators=10, total=   0.6s\n",
      "[CV] max_depth=5, min_samples_split=10, n_estimators=10 ..............\n",
      "[CV]  max_depth=5, min_samples_split=10, n_estimators=10, total=   0.7s\n",
      "[CV] max_depth=5, min_samples_split=10, n_estimators=10 ..............\n",
      "[CV]  max_depth=5, min_samples_split=10, n_estimators=10, total=   0.6s\n",
      "[CV] max_depth=5, min_samples_split=10, n_estimators=10 ..............\n",
      "[CV]  max_depth=5, min_samples_split=10, n_estimators=10, total=   0.6s\n",
      "[CV] max_depth=5, min_samples_split=10, n_estimators=10 ..............\n",
      "[CV]  max_depth=5, min_samples_split=10, n_estimators=10, total=   0.7s\n",
      "[CV] max_depth=5, min_samples_split=10, n_estimators=20 ..............\n",
      "[CV]  max_depth=5, min_samples_split=10, n_estimators=20, total=   1.2s\n",
      "[CV] max_depth=5, min_samples_split=10, n_estimators=20 ..............\n",
      "[CV]  max_depth=5, min_samples_split=10, n_estimators=20, total=   1.3s\n",
      "[CV] max_depth=5, min_samples_split=10, n_estimators=20 ..............\n",
      "[CV]  max_depth=5, min_samples_split=10, n_estimators=20, total=   1.3s\n",
      "[CV] max_depth=5, min_samples_split=10, n_estimators=20 ..............\n",
      "[CV]  max_depth=5, min_samples_split=10, n_estimators=20, total=   1.2s\n",
      "[CV] max_depth=5, min_samples_split=10, n_estimators=20 ..............\n",
      "[CV]  max_depth=5, min_samples_split=10, n_estimators=20, total=   1.3s\n",
      "[CV] max_depth=5, min_samples_split=10, n_estimators=30 ..............\n",
      "[CV]  max_depth=5, min_samples_split=10, n_estimators=30, total=   2.0s\n",
      "[CV] max_depth=5, min_samples_split=10, n_estimators=30 ..............\n",
      "[CV]  max_depth=5, min_samples_split=10, n_estimators=30, total=   1.9s\n",
      "[CV] max_depth=5, min_samples_split=10, n_estimators=30 ..............\n",
      "[CV]  max_depth=5, min_samples_split=10, n_estimators=30, total=   1.9s\n",
      "[CV] max_depth=5, min_samples_split=10, n_estimators=30 ..............\n",
      "[CV]  max_depth=5, min_samples_split=10, n_estimators=30, total=   1.9s\n",
      "[CV] max_depth=5, min_samples_split=10, n_estimators=30 ..............\n",
      "[CV]  max_depth=5, min_samples_split=10, n_estimators=30, total=   1.8s\n",
      "[CV] max_depth=5, min_samples_split=20, n_estimators=10 ..............\n",
      "[CV]  max_depth=5, min_samples_split=20, n_estimators=10, total=   0.6s\n",
      "[CV] max_depth=5, min_samples_split=20, n_estimators=10 ..............\n",
      "[CV]  max_depth=5, min_samples_split=20, n_estimators=10, total=   0.7s\n",
      "[CV] max_depth=5, min_samples_split=20, n_estimators=10 ..............\n",
      "[CV]  max_depth=5, min_samples_split=20, n_estimators=10, total=   0.7s\n",
      "[CV] max_depth=5, min_samples_split=20, n_estimators=10 ..............\n",
      "[CV]  max_depth=5, min_samples_split=20, n_estimators=10, total=   0.7s\n",
      "[CV] max_depth=5, min_samples_split=20, n_estimators=10 ..............\n",
      "[CV]  max_depth=5, min_samples_split=20, n_estimators=10, total=   0.7s\n",
      "[CV] max_depth=5, min_samples_split=20, n_estimators=20 ..............\n",
      "[CV]  max_depth=5, min_samples_split=20, n_estimators=20, total=   1.2s\n",
      "[CV] max_depth=5, min_samples_split=20, n_estimators=20 ..............\n",
      "[CV]  max_depth=5, min_samples_split=20, n_estimators=20, total=   1.3s\n",
      "[CV] max_depth=5, min_samples_split=20, n_estimators=20 ..............\n",
      "[CV]  max_depth=5, min_samples_split=20, n_estimators=20, total=   1.3s\n",
      "[CV] max_depth=5, min_samples_split=20, n_estimators=20 ..............\n",
      "[CV]  max_depth=5, min_samples_split=20, n_estimators=20, total=   1.3s\n",
      "[CV] max_depth=5, min_samples_split=20, n_estimators=20 ..............\n",
      "[CV]  max_depth=5, min_samples_split=20, n_estimators=20, total=   1.3s\n",
      "[CV] max_depth=5, min_samples_split=20, n_estimators=30 ..............\n",
      "[CV]  max_depth=5, min_samples_split=20, n_estimators=30, total=   1.9s\n",
      "[CV] max_depth=5, min_samples_split=20, n_estimators=30 ..............\n",
      "[CV]  max_depth=5, min_samples_split=20, n_estimators=30, total=   2.0s\n",
      "[CV] max_depth=5, min_samples_split=20, n_estimators=30 ..............\n",
      "[CV]  max_depth=5, min_samples_split=20, n_estimators=30, total=   1.8s\n",
      "[CV] max_depth=5, min_samples_split=20, n_estimators=30 ..............\n",
      "[CV]  max_depth=5, min_samples_split=20, n_estimators=30, total=   1.9s\n",
      "[CV] max_depth=5, min_samples_split=20, n_estimators=30 ..............\n",
      "[CV]  max_depth=5, min_samples_split=20, n_estimators=30, total=   1.9s\n",
      "[CV] max_depth=6, min_samples_split=2, n_estimators=10 ...............\n",
      "[CV]  max_depth=6, min_samples_split=2, n_estimators=10, total=   0.7s\n",
      "[CV] max_depth=6, min_samples_split=2, n_estimators=10 ...............\n",
      "[CV]  max_depth=6, min_samples_split=2, n_estimators=10, total=   0.7s\n",
      "[CV] max_depth=6, min_samples_split=2, n_estimators=10 ...............\n",
      "[CV]  max_depth=6, min_samples_split=2, n_estimators=10, total=   0.7s\n",
      "[CV] max_depth=6, min_samples_split=2, n_estimators=10 ...............\n",
      "[CV]  max_depth=6, min_samples_split=2, n_estimators=10, total=   0.7s\n",
      "[CV] max_depth=6, min_samples_split=2, n_estimators=10 ...............\n",
      "[CV]  max_depth=6, min_samples_split=2, n_estimators=10, total=   0.7s\n",
      "[CV] max_depth=6, min_samples_split=2, n_estimators=20 ...............\n",
      "[CV]  max_depth=6, min_samples_split=2, n_estimators=20, total=   1.4s\n",
      "[CV] max_depth=6, min_samples_split=2, n_estimators=20 ...............\n",
      "[CV]  max_depth=6, min_samples_split=2, n_estimators=20, total=   1.3s\n",
      "[CV] max_depth=6, min_samples_split=2, n_estimators=20 ...............\n",
      "[CV]  max_depth=6, min_samples_split=2, n_estimators=20, total=   1.4s\n",
      "[CV] max_depth=6, min_samples_split=2, n_estimators=20 ...............\n",
      "[CV]  max_depth=6, min_samples_split=2, n_estimators=20, total=   1.4s\n",
      "[CV] max_depth=6, min_samples_split=2, n_estimators=20 ...............\n",
      "[CV]  max_depth=6, min_samples_split=2, n_estimators=20, total=   1.4s\n",
      "[CV] max_depth=6, min_samples_split=2, n_estimators=30 ...............\n",
      "[CV]  max_depth=6, min_samples_split=2, n_estimators=30, total=   2.1s\n",
      "[CV] max_depth=6, min_samples_split=2, n_estimators=30 ...............\n",
      "[CV]  max_depth=6, min_samples_split=2, n_estimators=30, total=   2.1s\n",
      "[CV] max_depth=6, min_samples_split=2, n_estimators=30 ...............\n",
      "[CV]  max_depth=6, min_samples_split=2, n_estimators=30, total=   2.1s\n",
      "[CV] max_depth=6, min_samples_split=2, n_estimators=30 ...............\n",
      "[CV]  max_depth=6, min_samples_split=2, n_estimators=30, total=   2.0s\n",
      "[CV] max_depth=6, min_samples_split=2, n_estimators=30 ...............\n",
      "[CV]  max_depth=6, min_samples_split=2, n_estimators=30, total=   2.2s\n",
      "[CV] max_depth=6, min_samples_split=5, n_estimators=10 ...............\n",
      "[CV]  max_depth=6, min_samples_split=5, n_estimators=10, total=   0.7s\n",
      "[CV] max_depth=6, min_samples_split=5, n_estimators=10 ...............\n",
      "[CV]  max_depth=6, min_samples_split=5, n_estimators=10, total=   0.7s\n",
      "[CV] max_depth=6, min_samples_split=5, n_estimators=10 ...............\n",
      "[CV]  max_depth=6, min_samples_split=5, n_estimators=10, total=   0.7s\n",
      "[CV] max_depth=6, min_samples_split=5, n_estimators=10 ...............\n",
      "[CV]  max_depth=6, min_samples_split=5, n_estimators=10, total=   0.7s\n",
      "[CV] max_depth=6, min_samples_split=5, n_estimators=10 ...............\n",
      "[CV]  max_depth=6, min_samples_split=5, n_estimators=10, total=   0.7s\n",
      "[CV] max_depth=6, min_samples_split=5, n_estimators=20 ...............\n",
      "[CV]  max_depth=6, min_samples_split=5, n_estimators=20, total=   1.4s\n",
      "[CV] max_depth=6, min_samples_split=5, n_estimators=20 ...............\n",
      "[CV]  max_depth=6, min_samples_split=5, n_estimators=20, total=   1.4s\n",
      "[CV] max_depth=6, min_samples_split=5, n_estimators=20 ...............\n",
      "[CV]  max_depth=6, min_samples_split=5, n_estimators=20, total=   1.4s\n",
      "[CV] max_depth=6, min_samples_split=5, n_estimators=20 ...............\n",
      "[CV]  max_depth=6, min_samples_split=5, n_estimators=20, total=   1.4s\n",
      "[CV] max_depth=6, min_samples_split=5, n_estimators=20 ...............\n",
      "[CV]  max_depth=6, min_samples_split=5, n_estimators=20, total=   1.4s\n",
      "[CV] max_depth=6, min_samples_split=5, n_estimators=30 ...............\n",
      "[CV]  max_depth=6, min_samples_split=5, n_estimators=30, total=   2.1s\n",
      "[CV] max_depth=6, min_samples_split=5, n_estimators=30 ...............\n",
      "[CV]  max_depth=6, min_samples_split=5, n_estimators=30, total=   2.3s\n",
      "[CV] max_depth=6, min_samples_split=5, n_estimators=30 ...............\n",
      "[CV]  max_depth=6, min_samples_split=5, n_estimators=30, total=   2.1s\n",
      "[CV] max_depth=6, min_samples_split=5, n_estimators=30 ...............\n",
      "[CV]  max_depth=6, min_samples_split=5, n_estimators=30, total=   2.1s\n",
      "[CV] max_depth=6, min_samples_split=5, n_estimators=30 ...............\n",
      "[CV]  max_depth=6, min_samples_split=5, n_estimators=30, total=   2.1s\n",
      "[CV] max_depth=6, min_samples_split=10, n_estimators=10 ..............\n",
      "[CV]  max_depth=6, min_samples_split=10, n_estimators=10, total=   0.7s\n",
      "[CV] max_depth=6, min_samples_split=10, n_estimators=10 ..............\n",
      "[CV]  max_depth=6, min_samples_split=10, n_estimators=10, total=   0.7s\n",
      "[CV] max_depth=6, min_samples_split=10, n_estimators=10 ..............\n",
      "[CV]  max_depth=6, min_samples_split=10, n_estimators=10, total=   0.7s\n",
      "[CV] max_depth=6, min_samples_split=10, n_estimators=10 ..............\n",
      "[CV]  max_depth=6, min_samples_split=10, n_estimators=10, total=   0.7s\n",
      "[CV] max_depth=6, min_samples_split=10, n_estimators=10 ..............\n",
      "[CV]  max_depth=6, min_samples_split=10, n_estimators=10, total=   0.8s\n",
      "[CV] max_depth=6, min_samples_split=10, n_estimators=20 ..............\n",
      "[CV]  max_depth=6, min_samples_split=10, n_estimators=20, total=   1.4s\n",
      "[CV] max_depth=6, min_samples_split=10, n_estimators=20 ..............\n",
      "[CV]  max_depth=6, min_samples_split=10, n_estimators=20, total=   1.4s\n",
      "[CV] max_depth=6, min_samples_split=10, n_estimators=20 ..............\n",
      "[CV]  max_depth=6, min_samples_split=10, n_estimators=20, total=   1.5s\n",
      "[CV] max_depth=6, min_samples_split=10, n_estimators=20 ..............\n",
      "[CV]  max_depth=6, min_samples_split=10, n_estimators=20, total=   1.4s\n",
      "[CV] max_depth=6, min_samples_split=10, n_estimators=20 ..............\n",
      "[CV]  max_depth=6, min_samples_split=10, n_estimators=20, total=   1.4s\n",
      "[CV] max_depth=6, min_samples_split=10, n_estimators=30 ..............\n",
      "[CV]  max_depth=6, min_samples_split=10, n_estimators=30, total=   2.1s\n",
      "[CV] max_depth=6, min_samples_split=10, n_estimators=30 ..............\n",
      "[CV]  max_depth=6, min_samples_split=10, n_estimators=30, total=   2.1s\n",
      "[CV] max_depth=6, min_samples_split=10, n_estimators=30 ..............\n",
      "[CV]  max_depth=6, min_samples_split=10, n_estimators=30, total=   2.0s\n",
      "[CV] max_depth=6, min_samples_split=10, n_estimators=30 ..............\n",
      "[CV]  max_depth=6, min_samples_split=10, n_estimators=30, total=   2.1s\n",
      "[CV] max_depth=6, min_samples_split=10, n_estimators=30 ..............\n",
      "[CV]  max_depth=6, min_samples_split=10, n_estimators=30, total=   2.1s\n",
      "[CV] max_depth=6, min_samples_split=20, n_estimators=10 ..............\n",
      "[CV]  max_depth=6, min_samples_split=20, n_estimators=10, total=   0.7s\n",
      "[CV] max_depth=6, min_samples_split=20, n_estimators=10 ..............\n",
      "[CV]  max_depth=6, min_samples_split=20, n_estimators=10, total=   0.7s\n",
      "[CV] max_depth=6, min_samples_split=20, n_estimators=10 ..............\n",
      "[CV]  max_depth=6, min_samples_split=20, n_estimators=10, total=   0.7s\n",
      "[CV] max_depth=6, min_samples_split=20, n_estimators=10 ..............\n",
      "[CV]  max_depth=6, min_samples_split=20, n_estimators=10, total=   0.8s\n",
      "[CV] max_depth=6, min_samples_split=20, n_estimators=10 ..............\n",
      "[CV]  max_depth=6, min_samples_split=20, n_estimators=10, total=   0.7s\n",
      "[CV] max_depth=6, min_samples_split=20, n_estimators=20 ..............\n",
      "[CV]  max_depth=6, min_samples_split=20, n_estimators=20, total=   1.4s\n",
      "[CV] max_depth=6, min_samples_split=20, n_estimators=20 ..............\n",
      "[CV]  max_depth=6, min_samples_split=20, n_estimators=20, total=   1.4s\n",
      "[CV] max_depth=6, min_samples_split=20, n_estimators=20 ..............\n",
      "[CV]  max_depth=6, min_samples_split=20, n_estimators=20, total=   1.4s\n",
      "[CV] max_depth=6, min_samples_split=20, n_estimators=20 ..............\n",
      "[CV]  max_depth=6, min_samples_split=20, n_estimators=20, total=   1.4s\n",
      "[CV] max_depth=6, min_samples_split=20, n_estimators=20 ..............\n",
      "[CV]  max_depth=6, min_samples_split=20, n_estimators=20, total=   1.4s\n",
      "[CV] max_depth=6, min_samples_split=20, n_estimators=30 ..............\n",
      "[CV]  max_depth=6, min_samples_split=20, n_estimators=30, total=   2.1s\n",
      "[CV] max_depth=6, min_samples_split=20, n_estimators=30 ..............\n",
      "[CV]  max_depth=6, min_samples_split=20, n_estimators=30, total=   2.2s\n",
      "[CV] max_depth=6, min_samples_split=20, n_estimators=30 ..............\n",
      "[CV]  max_depth=6, min_samples_split=20, n_estimators=30, total=   2.0s\n",
      "[CV] max_depth=6, min_samples_split=20, n_estimators=30 ..............\n",
      "[CV]  max_depth=6, min_samples_split=20, n_estimators=30, total=   2.1s\n",
      "[CV] max_depth=6, min_samples_split=20, n_estimators=30 ..............\n",
      "[CV]  max_depth=6, min_samples_split=20, n_estimators=30, total=   2.1s\n",
      "[CV] max_depth=7, min_samples_split=2, n_estimators=10 ...............\n",
      "[CV]  max_depth=7, min_samples_split=2, n_estimators=10, total=   0.8s\n",
      "[CV] max_depth=7, min_samples_split=2, n_estimators=10 ...............\n",
      "[CV]  max_depth=7, min_samples_split=2, n_estimators=10, total=   0.8s\n",
      "[CV] max_depth=7, min_samples_split=2, n_estimators=10 ...............\n",
      "[CV]  max_depth=7, min_samples_split=2, n_estimators=10, total=   0.8s\n",
      "[CV] max_depth=7, min_samples_split=2, n_estimators=10 ...............\n",
      "[CV]  max_depth=7, min_samples_split=2, n_estimators=10, total=   0.8s\n",
      "[CV] max_depth=7, min_samples_split=2, n_estimators=10 ...............\n",
      "[CV]  max_depth=7, min_samples_split=2, n_estimators=10, total=   0.8s\n",
      "[CV] max_depth=7, min_samples_split=2, n_estimators=20 ...............\n",
      "[CV]  max_depth=7, min_samples_split=2, n_estimators=20, total=   1.6s\n",
      "[CV] max_depth=7, min_samples_split=2, n_estimators=20 ...............\n",
      "[CV]  max_depth=7, min_samples_split=2, n_estimators=20, total=   1.6s\n",
      "[CV] max_depth=7, min_samples_split=2, n_estimators=20 ...............\n",
      "[CV]  max_depth=7, min_samples_split=2, n_estimators=20, total=   1.6s\n",
      "[CV] max_depth=7, min_samples_split=2, n_estimators=20 ...............\n",
      "[CV]  max_depth=7, min_samples_split=2, n_estimators=20, total=   1.6s\n",
      "[CV] max_depth=7, min_samples_split=2, n_estimators=20 ...............\n",
      "[CV]  max_depth=7, min_samples_split=2, n_estimators=20, total=   1.6s\n",
      "[CV] max_depth=7, min_samples_split=2, n_estimators=30 ...............\n",
      "[CV]  max_depth=7, min_samples_split=2, n_estimators=30, total=   2.3s\n",
      "[CV] max_depth=7, min_samples_split=2, n_estimators=30 ...............\n",
      "[CV]  max_depth=7, min_samples_split=2, n_estimators=30, total=   2.3s\n",
      "[CV] max_depth=7, min_samples_split=2, n_estimators=30 ...............\n",
      "[CV]  max_depth=7, min_samples_split=2, n_estimators=30, total=   2.3s\n",
      "[CV] max_depth=7, min_samples_split=2, n_estimators=30 ...............\n",
      "[CV]  max_depth=7, min_samples_split=2, n_estimators=30, total=   2.3s\n",
      "[CV] max_depth=7, min_samples_split=2, n_estimators=30 ...............\n",
      "[CV]  max_depth=7, min_samples_split=2, n_estimators=30, total=   2.3s\n",
      "[CV] max_depth=7, min_samples_split=5, n_estimators=10 ...............\n",
      "[CV]  max_depth=7, min_samples_split=5, n_estimators=10, total=   0.8s\n",
      "[CV] max_depth=7, min_samples_split=5, n_estimators=10 ...............\n",
      "[CV]  max_depth=7, min_samples_split=5, n_estimators=10, total=   0.8s\n",
      "[CV] max_depth=7, min_samples_split=5, n_estimators=10 ...............\n",
      "[CV]  max_depth=7, min_samples_split=5, n_estimators=10, total=   0.8s\n",
      "[CV] max_depth=7, min_samples_split=5, n_estimators=10 ...............\n",
      "[CV]  max_depth=7, min_samples_split=5, n_estimators=10, total=   0.8s\n",
      "[CV] max_depth=7, min_samples_split=5, n_estimators=10 ...............\n",
      "[CV]  max_depth=7, min_samples_split=5, n_estimators=10, total=   0.8s\n",
      "[CV] max_depth=7, min_samples_split=5, n_estimators=20 ...............\n",
      "[CV]  max_depth=7, min_samples_split=5, n_estimators=20, total=   1.6s\n",
      "[CV] max_depth=7, min_samples_split=5, n_estimators=20 ...............\n",
      "[CV]  max_depth=7, min_samples_split=5, n_estimators=20, total=   1.5s\n",
      "[CV] max_depth=7, min_samples_split=5, n_estimators=20 ...............\n",
      "[CV]  max_depth=7, min_samples_split=5, n_estimators=20, total=   1.6s\n",
      "[CV] max_depth=7, min_samples_split=5, n_estimators=20 ...............\n",
      "[CV]  max_depth=7, min_samples_split=5, n_estimators=20, total=   1.6s\n",
      "[CV] max_depth=7, min_samples_split=5, n_estimators=20 ...............\n",
      "[CV]  max_depth=7, min_samples_split=5, n_estimators=20, total=   1.5s\n",
      "[CV] max_depth=7, min_samples_split=5, n_estimators=30 ...............\n",
      "[CV]  max_depth=7, min_samples_split=5, n_estimators=30, total=   2.4s\n",
      "[CV] max_depth=7, min_samples_split=5, n_estimators=30 ...............\n",
      "[CV]  max_depth=7, min_samples_split=5, n_estimators=30, total=   2.4s\n",
      "[CV] max_depth=7, min_samples_split=5, n_estimators=30 ...............\n",
      "[CV]  max_depth=7, min_samples_split=5, n_estimators=30, total=   2.4s\n",
      "[CV] max_depth=7, min_samples_split=5, n_estimators=30 ...............\n",
      "[CV]  max_depth=7, min_samples_split=5, n_estimators=30, total=   2.4s\n",
      "[CV] max_depth=7, min_samples_split=5, n_estimators=30 ...............\n",
      "[CV]  max_depth=7, min_samples_split=5, n_estimators=30, total=   2.4s\n",
      "[CV] max_depth=7, min_samples_split=10, n_estimators=10 ..............\n",
      "[CV]  max_depth=7, min_samples_split=10, n_estimators=10, total=   0.8s\n",
      "[CV] max_depth=7, min_samples_split=10, n_estimators=10 ..............\n",
      "[CV]  max_depth=7, min_samples_split=10, n_estimators=10, total=   0.8s\n",
      "[CV] max_depth=7, min_samples_split=10, n_estimators=10 ..............\n",
      "[CV]  max_depth=7, min_samples_split=10, n_estimators=10, total=   0.8s\n",
      "[CV] max_depth=7, min_samples_split=10, n_estimators=10 ..............\n",
      "[CV]  max_depth=7, min_samples_split=10, n_estimators=10, total=   0.8s\n",
      "[CV] max_depth=7, min_samples_split=10, n_estimators=10 ..............\n",
      "[CV]  max_depth=7, min_samples_split=10, n_estimators=10, total=   0.8s\n",
      "[CV] max_depth=7, min_samples_split=10, n_estimators=20 ..............\n",
      "[CV]  max_depth=7, min_samples_split=10, n_estimators=20, total=   1.6s\n",
      "[CV] max_depth=7, min_samples_split=10, n_estimators=20 ..............\n",
      "[CV]  max_depth=7, min_samples_split=10, n_estimators=20, total=   1.6s\n",
      "[CV] max_depth=7, min_samples_split=10, n_estimators=20 ..............\n",
      "[CV]  max_depth=7, min_samples_split=10, n_estimators=20, total=   1.6s\n",
      "[CV] max_depth=7, min_samples_split=10, n_estimators=20 ..............\n",
      "[CV]  max_depth=7, min_samples_split=10, n_estimators=20, total=   1.6s\n",
      "[CV] max_depth=7, min_samples_split=10, n_estimators=20 ..............\n",
      "[CV]  max_depth=7, min_samples_split=10, n_estimators=20, total=   1.5s\n",
      "[CV] max_depth=7, min_samples_split=10, n_estimators=30 ..............\n",
      "[CV]  max_depth=7, min_samples_split=10, n_estimators=30, total=   2.4s\n",
      "[CV] max_depth=7, min_samples_split=10, n_estimators=30 ..............\n",
      "[CV]  max_depth=7, min_samples_split=10, n_estimators=30, total=   2.5s\n",
      "[CV] max_depth=7, min_samples_split=10, n_estimators=30 ..............\n",
      "[CV]  max_depth=7, min_samples_split=10, n_estimators=30, total=   2.5s\n",
      "[CV] max_depth=7, min_samples_split=10, n_estimators=30 ..............\n",
      "[CV]  max_depth=7, min_samples_split=10, n_estimators=30, total=   2.4s\n",
      "[CV] max_depth=7, min_samples_split=10, n_estimators=30 ..............\n",
      "[CV]  max_depth=7, min_samples_split=10, n_estimators=30, total=   2.4s\n",
      "[CV] max_depth=7, min_samples_split=20, n_estimators=10 ..............\n",
      "[CV]  max_depth=7, min_samples_split=20, n_estimators=10, total=   0.8s\n",
      "[CV] max_depth=7, min_samples_split=20, n_estimators=10 ..............\n",
      "[CV]  max_depth=7, min_samples_split=20, n_estimators=10, total=   0.8s\n",
      "[CV] max_depth=7, min_samples_split=20, n_estimators=10 ..............\n",
      "[CV]  max_depth=7, min_samples_split=20, n_estimators=10, total=   0.8s\n",
      "[CV] max_depth=7, min_samples_split=20, n_estimators=10 ..............\n",
      "[CV]  max_depth=7, min_samples_split=20, n_estimators=10, total=   0.8s\n",
      "[CV] max_depth=7, min_samples_split=20, n_estimators=10 ..............\n",
      "[CV]  max_depth=7, min_samples_split=20, n_estimators=10, total=   0.8s\n",
      "[CV] max_depth=7, min_samples_split=20, n_estimators=20 ..............\n",
      "[CV]  max_depth=7, min_samples_split=20, n_estimators=20, total=   1.5s\n",
      "[CV] max_depth=7, min_samples_split=20, n_estimators=20 ..............\n",
      "[CV]  max_depth=7, min_samples_split=20, n_estimators=20, total=   1.6s\n",
      "[CV] max_depth=7, min_samples_split=20, n_estimators=20 ..............\n",
      "[CV]  max_depth=7, min_samples_split=20, n_estimators=20, total=   1.6s\n",
      "[CV] max_depth=7, min_samples_split=20, n_estimators=20 ..............\n",
      "[CV]  max_depth=7, min_samples_split=20, n_estimators=20, total=   1.5s\n",
      "[CV] max_depth=7, min_samples_split=20, n_estimators=20 ..............\n",
      "[CV]  max_depth=7, min_samples_split=20, n_estimators=20, total=   1.5s\n",
      "[CV] max_depth=7, min_samples_split=20, n_estimators=30 ..............\n",
      "[CV]  max_depth=7, min_samples_split=20, n_estimators=30, total=   2.3s\n",
      "[CV] max_depth=7, min_samples_split=20, n_estimators=30 ..............\n",
      "[CV]  max_depth=7, min_samples_split=20, n_estimators=30, total=   2.3s\n",
      "[CV] max_depth=7, min_samples_split=20, n_estimators=30 ..............\n",
      "[CV]  max_depth=7, min_samples_split=20, n_estimators=30, total=   2.3s\n",
      "[CV] max_depth=7, min_samples_split=20, n_estimators=30 ..............\n",
      "[CV]  max_depth=7, min_samples_split=20, n_estimators=30, total=   2.3s\n",
      "[CV] max_depth=7, min_samples_split=20, n_estimators=30 ..............\n",
      "[CV]  max_depth=7, min_samples_split=20, n_estimators=30, total=   2.3s\n",
      "[CV] max_depth=8, min_samples_split=2, n_estimators=10 ...............\n",
      "[CV]  max_depth=8, min_samples_split=2, n_estimators=10, total=   0.9s\n",
      "[CV] max_depth=8, min_samples_split=2, n_estimators=10 ...............\n",
      "[CV]  max_depth=8, min_samples_split=2, n_estimators=10, total=   0.9s\n",
      "[CV] max_depth=8, min_samples_split=2, n_estimators=10 ...............\n",
      "[CV]  max_depth=8, min_samples_split=2, n_estimators=10, total=   0.8s\n",
      "[CV] max_depth=8, min_samples_split=2, n_estimators=10 ...............\n",
      "[CV]  max_depth=8, min_samples_split=2, n_estimators=10, total=   0.8s\n",
      "[CV] max_depth=8, min_samples_split=2, n_estimators=10 ...............\n",
      "[CV]  max_depth=8, min_samples_split=2, n_estimators=10, total=   0.8s\n",
      "[CV] max_depth=8, min_samples_split=2, n_estimators=20 ...............\n",
      "[CV]  max_depth=8, min_samples_split=2, n_estimators=20, total=   1.6s\n",
      "[CV] max_depth=8, min_samples_split=2, n_estimators=20 ...............\n",
      "[CV]  max_depth=8, min_samples_split=2, n_estimators=20, total=   1.7s\n",
      "[CV] max_depth=8, min_samples_split=2, n_estimators=20 ...............\n",
      "[CV]  max_depth=8, min_samples_split=2, n_estimators=20, total=   1.7s\n",
      "[CV] max_depth=8, min_samples_split=2, n_estimators=20 ...............\n",
      "[CV]  max_depth=8, min_samples_split=2, n_estimators=20, total=   1.8s\n",
      "[CV] max_depth=8, min_samples_split=2, n_estimators=20 ...............\n",
      "[CV]  max_depth=8, min_samples_split=2, n_estimators=20, total=   1.7s\n",
      "[CV] max_depth=8, min_samples_split=2, n_estimators=30 ...............\n",
      "[CV]  max_depth=8, min_samples_split=2, n_estimators=30, total=   2.5s\n",
      "[CV] max_depth=8, min_samples_split=2, n_estimators=30 ...............\n",
      "[CV]  max_depth=8, min_samples_split=2, n_estimators=30, total=   2.6s\n",
      "[CV] max_depth=8, min_samples_split=2, n_estimators=30 ...............\n",
      "[CV]  max_depth=8, min_samples_split=2, n_estimators=30, total=   2.6s\n",
      "[CV] max_depth=8, min_samples_split=2, n_estimators=30 ...............\n",
      "[CV]  max_depth=8, min_samples_split=2, n_estimators=30, total=   2.7s\n",
      "[CV] max_depth=8, min_samples_split=2, n_estimators=30 ...............\n",
      "[CV]  max_depth=8, min_samples_split=2, n_estimators=30, total=   2.5s\n",
      "[CV] max_depth=8, min_samples_split=5, n_estimators=10 ...............\n",
      "[CV]  max_depth=8, min_samples_split=5, n_estimators=10, total=   0.9s\n",
      "[CV] max_depth=8, min_samples_split=5, n_estimators=10 ...............\n",
      "[CV]  max_depth=8, min_samples_split=5, n_estimators=10, total=   0.9s\n",
      "[CV] max_depth=8, min_samples_split=5, n_estimators=10 ...............\n",
      "[CV]  max_depth=8, min_samples_split=5, n_estimators=10, total=   0.9s\n",
      "[CV] max_depth=8, min_samples_split=5, n_estimators=10 ...............\n",
      "[CV]  max_depth=8, min_samples_split=5, n_estimators=10, total=   0.9s\n",
      "[CV] max_depth=8, min_samples_split=5, n_estimators=10 ...............\n",
      "[CV]  max_depth=8, min_samples_split=5, n_estimators=10, total=   0.9s\n",
      "[CV] max_depth=8, min_samples_split=5, n_estimators=20 ...............\n",
      "[CV]  max_depth=8, min_samples_split=5, n_estimators=20, total=   1.8s\n",
      "[CV] max_depth=8, min_samples_split=5, n_estimators=20 ...............\n",
      "[CV]  max_depth=8, min_samples_split=5, n_estimators=20, total=   1.8s\n",
      "[CV] max_depth=8, min_samples_split=5, n_estimators=20 ...............\n",
      "[CV]  max_depth=8, min_samples_split=5, n_estimators=20, total=   1.8s\n",
      "[CV] max_depth=8, min_samples_split=5, n_estimators=20 ...............\n",
      "[CV]  max_depth=8, min_samples_split=5, n_estimators=20, total=   1.7s\n",
      "[CV] max_depth=8, min_samples_split=5, n_estimators=20 ...............\n",
      "[CV]  max_depth=8, min_samples_split=5, n_estimators=20, total=   1.7s\n",
      "[CV] max_depth=8, min_samples_split=5, n_estimators=30 ...............\n",
      "[CV]  max_depth=8, min_samples_split=5, n_estimators=30, total=   2.5s\n",
      "[CV] max_depth=8, min_samples_split=5, n_estimators=30 ...............\n",
      "[CV]  max_depth=8, min_samples_split=5, n_estimators=30, total=   2.5s\n",
      "[CV] max_depth=8, min_samples_split=5, n_estimators=30 ...............\n",
      "[CV]  max_depth=8, min_samples_split=5, n_estimators=30, total=   2.5s\n",
      "[CV] max_depth=8, min_samples_split=5, n_estimators=30 ...............\n",
      "[CV]  max_depth=8, min_samples_split=5, n_estimators=30, total=   2.5s\n",
      "[CV] max_depth=8, min_samples_split=5, n_estimators=30 ...............\n",
      "[CV]  max_depth=8, min_samples_split=5, n_estimators=30, total=   2.5s\n",
      "[CV] max_depth=8, min_samples_split=10, n_estimators=10 ..............\n",
      "[CV]  max_depth=8, min_samples_split=10, n_estimators=10, total=   0.9s\n",
      "[CV] max_depth=8, min_samples_split=10, n_estimators=10 ..............\n",
      "[CV]  max_depth=8, min_samples_split=10, n_estimators=10, total=   0.8s\n",
      "[CV] max_depth=8, min_samples_split=10, n_estimators=10 ..............\n",
      "[CV]  max_depth=8, min_samples_split=10, n_estimators=10, total=   0.8s\n",
      "[CV] max_depth=8, min_samples_split=10, n_estimators=10 ..............\n",
      "[CV]  max_depth=8, min_samples_split=10, n_estimators=10, total=   0.8s\n",
      "[CV] max_depth=8, min_samples_split=10, n_estimators=10 ..............\n",
      "[CV]  max_depth=8, min_samples_split=10, n_estimators=10, total=   0.8s\n",
      "[CV] max_depth=8, min_samples_split=10, n_estimators=20 ..............\n",
      "[CV]  max_depth=8, min_samples_split=10, n_estimators=20, total=   1.6s\n",
      "[CV] max_depth=8, min_samples_split=10, n_estimators=20 ..............\n",
      "[CV]  max_depth=8, min_samples_split=10, n_estimators=20, total=   1.7s\n",
      "[CV] max_depth=8, min_samples_split=10, n_estimators=20 ..............\n",
      "[CV]  max_depth=8, min_samples_split=10, n_estimators=20, total=   1.7s\n",
      "[CV] max_depth=8, min_samples_split=10, n_estimators=20 ..............\n",
      "[CV]  max_depth=8, min_samples_split=10, n_estimators=20, total=   1.7s\n",
      "[CV] max_depth=8, min_samples_split=10, n_estimators=20 ..............\n",
      "[CV]  max_depth=8, min_samples_split=10, n_estimators=20, total=   1.7s\n",
      "[CV] max_depth=8, min_samples_split=10, n_estimators=30 ..............\n",
      "[CV]  max_depth=8, min_samples_split=10, n_estimators=30, total=   2.5s\n",
      "[CV] max_depth=8, min_samples_split=10, n_estimators=30 ..............\n",
      "[CV]  max_depth=8, min_samples_split=10, n_estimators=30, total=   2.6s\n",
      "[CV] max_depth=8, min_samples_split=10, n_estimators=30 ..............\n",
      "[CV]  max_depth=8, min_samples_split=10, n_estimators=30, total=   2.5s\n",
      "[CV] max_depth=8, min_samples_split=10, n_estimators=30 ..............\n",
      "[CV]  max_depth=8, min_samples_split=10, n_estimators=30, total=   2.5s\n",
      "[CV] max_depth=8, min_samples_split=10, n_estimators=30 ..............\n",
      "[CV]  max_depth=8, min_samples_split=10, n_estimators=30, total=   2.4s\n",
      "[CV] max_depth=8, min_samples_split=20, n_estimators=10 ..............\n",
      "[CV]  max_depth=8, min_samples_split=20, n_estimators=10, total=   0.9s\n",
      "[CV] max_depth=8, min_samples_split=20, n_estimators=10 ..............\n",
      "[CV]  max_depth=8, min_samples_split=20, n_estimators=10, total=   0.8s\n",
      "[CV] max_depth=8, min_samples_split=20, n_estimators=10 ..............\n",
      "[CV]  max_depth=8, min_samples_split=20, n_estimators=10, total=   0.9s\n",
      "[CV] max_depth=8, min_samples_split=20, n_estimators=10 ..............\n",
      "[CV]  max_depth=8, min_samples_split=20, n_estimators=10, total=   0.9s\n",
      "[CV] max_depth=8, min_samples_split=20, n_estimators=10 ..............\n",
      "[CV]  max_depth=8, min_samples_split=20, n_estimators=10, total=   0.9s\n",
      "[CV] max_depth=8, min_samples_split=20, n_estimators=20 ..............\n",
      "[CV]  max_depth=8, min_samples_split=20, n_estimators=20, total=   1.7s\n",
      "[CV] max_depth=8, min_samples_split=20, n_estimators=20 ..............\n",
      "[CV]  max_depth=8, min_samples_split=20, n_estimators=20, total=   1.7s\n",
      "[CV] max_depth=8, min_samples_split=20, n_estimators=20 ..............\n",
      "[CV]  max_depth=8, min_samples_split=20, n_estimators=20, total=   1.6s\n",
      "[CV] max_depth=8, min_samples_split=20, n_estimators=20 ..............\n",
      "[CV]  max_depth=8, min_samples_split=20, n_estimators=20, total=   1.6s\n",
      "[CV] max_depth=8, min_samples_split=20, n_estimators=20 ..............\n",
      "[CV]  max_depth=8, min_samples_split=20, n_estimators=20, total=   1.7s\n",
      "[CV] max_depth=8, min_samples_split=20, n_estimators=30 ..............\n",
      "[CV]  max_depth=8, min_samples_split=20, n_estimators=30, total=   2.5s\n",
      "[CV] max_depth=8, min_samples_split=20, n_estimators=30 ..............\n",
      "[CV]  max_depth=8, min_samples_split=20, n_estimators=30, total=   2.6s\n",
      "[CV] max_depth=8, min_samples_split=20, n_estimators=30 ..............\n",
      "[CV]  max_depth=8, min_samples_split=20, n_estimators=30, total=   2.5s\n",
      "[CV] max_depth=8, min_samples_split=20, n_estimators=30 ..............\n",
      "[CV]  max_depth=8, min_samples_split=20, n_estimators=30, total=   2.5s\n",
      "[CV] max_depth=8, min_samples_split=20, n_estimators=30 ..............\n",
      "[CV]  max_depth=8, min_samples_split=20, n_estimators=30, total=   2.6s\n",
      "[CV] max_depth=9, min_samples_split=2, n_estimators=10 ...............\n",
      "[CV]  max_depth=9, min_samples_split=2, n_estimators=10, total=   0.9s\n",
      "[CV] max_depth=9, min_samples_split=2, n_estimators=10 ...............\n",
      "[CV]  max_depth=9, min_samples_split=2, n_estimators=10, total=   1.0s\n",
      "[CV] max_depth=9, min_samples_split=2, n_estimators=10 ...............\n",
      "[CV]  max_depth=9, min_samples_split=2, n_estimators=10, total=   0.9s\n",
      "[CV] max_depth=9, min_samples_split=2, n_estimators=10 ...............\n",
      "[CV]  max_depth=9, min_samples_split=2, n_estimators=10, total=   0.9s\n",
      "[CV] max_depth=9, min_samples_split=2, n_estimators=10 ...............\n",
      "[CV]  max_depth=9, min_samples_split=2, n_estimators=10, total=   1.0s\n",
      "[CV] max_depth=9, min_samples_split=2, n_estimators=20 ...............\n",
      "[CV]  max_depth=9, min_samples_split=2, n_estimators=20, total=   1.9s\n",
      "[CV] max_depth=9, min_samples_split=2, n_estimators=20 ...............\n",
      "[CV]  max_depth=9, min_samples_split=2, n_estimators=20, total=   1.8s\n",
      "[CV] max_depth=9, min_samples_split=2, n_estimators=20 ...............\n",
      "[CV]  max_depth=9, min_samples_split=2, n_estimators=20, total=   1.8s\n",
      "[CV] max_depth=9, min_samples_split=2, n_estimators=20 ...............\n",
      "[CV]  max_depth=9, min_samples_split=2, n_estimators=20, total=   1.9s\n",
      "[CV] max_depth=9, min_samples_split=2, n_estimators=20 ...............\n",
      "[CV]  max_depth=9, min_samples_split=2, n_estimators=20, total=   1.8s\n",
      "[CV] max_depth=9, min_samples_split=2, n_estimators=30 ...............\n",
      "[CV]  max_depth=9, min_samples_split=2, n_estimators=30, total=   2.6s\n",
      "[CV] max_depth=9, min_samples_split=2, n_estimators=30 ...............\n",
      "[CV]  max_depth=9, min_samples_split=2, n_estimators=30, total=   2.7s\n",
      "[CV] max_depth=9, min_samples_split=2, n_estimators=30 ...............\n",
      "[CV]  max_depth=9, min_samples_split=2, n_estimators=30, total=   2.7s\n",
      "[CV] max_depth=9, min_samples_split=2, n_estimators=30 ...............\n",
      "[CV]  max_depth=9, min_samples_split=2, n_estimators=30, total=   2.7s\n",
      "[CV] max_depth=9, min_samples_split=2, n_estimators=30 ...............\n",
      "[CV]  max_depth=9, min_samples_split=2, n_estimators=30, total=   2.7s\n",
      "[CV] max_depth=9, min_samples_split=5, n_estimators=10 ...............\n",
      "[CV]  max_depth=9, min_samples_split=5, n_estimators=10, total=   0.9s\n",
      "[CV] max_depth=9, min_samples_split=5, n_estimators=10 ...............\n",
      "[CV]  max_depth=9, min_samples_split=5, n_estimators=10, total=   0.9s\n",
      "[CV] max_depth=9, min_samples_split=5, n_estimators=10 ...............\n",
      "[CV]  max_depth=9, min_samples_split=5, n_estimators=10, total=   0.9s\n",
      "[CV] max_depth=9, min_samples_split=5, n_estimators=10 ...............\n",
      "[CV]  max_depth=9, min_samples_split=5, n_estimators=10, total=   0.9s\n",
      "[CV] max_depth=9, min_samples_split=5, n_estimators=10 ...............\n",
      "[CV]  max_depth=9, min_samples_split=5, n_estimators=10, total=   0.9s\n",
      "[CV] max_depth=9, min_samples_split=5, n_estimators=20 ...............\n",
      "[CV]  max_depth=9, min_samples_split=5, n_estimators=20, total=   1.8s\n",
      "[CV] max_depth=9, min_samples_split=5, n_estimators=20 ...............\n",
      "[CV]  max_depth=9, min_samples_split=5, n_estimators=20, total=   1.8s\n",
      "[CV] max_depth=9, min_samples_split=5, n_estimators=20 ...............\n",
      "[CV]  max_depth=9, min_samples_split=5, n_estimators=20, total=   1.8s\n",
      "[CV] max_depth=9, min_samples_split=5, n_estimators=20 ...............\n",
      "[CV]  max_depth=9, min_samples_split=5, n_estimators=20, total=   1.8s\n",
      "[CV] max_depth=9, min_samples_split=5, n_estimators=20 ...............\n",
      "[CV]  max_depth=9, min_samples_split=5, n_estimators=20, total=   1.8s\n",
      "[CV] max_depth=9, min_samples_split=5, n_estimators=30 ...............\n",
      "[CV]  max_depth=9, min_samples_split=5, n_estimators=30, total=   2.7s\n",
      "[CV] max_depth=9, min_samples_split=5, n_estimators=30 ...............\n",
      "[CV]  max_depth=9, min_samples_split=5, n_estimators=30, total=   2.7s\n",
      "[CV] max_depth=9, min_samples_split=5, n_estimators=30 ...............\n",
      "[CV]  max_depth=9, min_samples_split=5, n_estimators=30, total=   2.7s\n",
      "[CV] max_depth=9, min_samples_split=5, n_estimators=30 ...............\n",
      "[CV]  max_depth=9, min_samples_split=5, n_estimators=30, total=   2.7s\n",
      "[CV] max_depth=9, min_samples_split=5, n_estimators=30 ...............\n",
      "[CV]  max_depth=9, min_samples_split=5, n_estimators=30, total=   2.7s\n",
      "[CV] max_depth=9, min_samples_split=10, n_estimators=10 ..............\n",
      "[CV]  max_depth=9, min_samples_split=10, n_estimators=10, total=   0.9s\n",
      "[CV] max_depth=9, min_samples_split=10, n_estimators=10 ..............\n",
      "[CV]  max_depth=9, min_samples_split=10, n_estimators=10, total=   0.9s\n",
      "[CV] max_depth=9, min_samples_split=10, n_estimators=10 ..............\n",
      "[CV]  max_depth=9, min_samples_split=10, n_estimators=10, total=   0.9s\n",
      "[CV] max_depth=9, min_samples_split=10, n_estimators=10 ..............\n",
      "[CV]  max_depth=9, min_samples_split=10, n_estimators=10, total=   0.9s\n",
      "[CV] max_depth=9, min_samples_split=10, n_estimators=10 ..............\n",
      "[CV]  max_depth=9, min_samples_split=10, n_estimators=10, total=   0.9s\n",
      "[CV] max_depth=9, min_samples_split=10, n_estimators=20 ..............\n",
      "[CV]  max_depth=9, min_samples_split=10, n_estimators=20, total=   1.8s\n",
      "[CV] max_depth=9, min_samples_split=10, n_estimators=20 ..............\n",
      "[CV]  max_depth=9, min_samples_split=10, n_estimators=20, total=   1.7s\n",
      "[CV] max_depth=9, min_samples_split=10, n_estimators=20 ..............\n",
      "[CV]  max_depth=9, min_samples_split=10, n_estimators=20, total=   1.9s\n",
      "[CV] max_depth=9, min_samples_split=10, n_estimators=20 ..............\n",
      "[CV]  max_depth=9, min_samples_split=10, n_estimators=20, total=   1.9s\n",
      "[CV] max_depth=9, min_samples_split=10, n_estimators=20 ..............\n",
      "[CV]  max_depth=9, min_samples_split=10, n_estimators=20, total=   1.8s\n",
      "[CV] max_depth=9, min_samples_split=10, n_estimators=30 ..............\n",
      "[CV]  max_depth=9, min_samples_split=10, n_estimators=30, total=   2.7s\n",
      "[CV] max_depth=9, min_samples_split=10, n_estimators=30 ..............\n",
      "[CV]  max_depth=9, min_samples_split=10, n_estimators=30, total=   2.6s\n",
      "[CV] max_depth=9, min_samples_split=10, n_estimators=30 ..............\n",
      "[CV]  max_depth=9, min_samples_split=10, n_estimators=30, total=   2.8s\n",
      "[CV] max_depth=9, min_samples_split=10, n_estimators=30 ..............\n",
      "[CV]  max_depth=9, min_samples_split=10, n_estimators=30, total=   2.7s\n",
      "[CV] max_depth=9, min_samples_split=10, n_estimators=30 ..............\n",
      "[CV]  max_depth=9, min_samples_split=10, n_estimators=30, total=   2.7s\n",
      "[CV] max_depth=9, min_samples_split=20, n_estimators=10 ..............\n",
      "[CV]  max_depth=9, min_samples_split=20, n_estimators=10, total=   0.9s\n",
      "[CV] max_depth=9, min_samples_split=20, n_estimators=10 ..............\n",
      "[CV]  max_depth=9, min_samples_split=20, n_estimators=10, total=   0.9s\n",
      "[CV] max_depth=9, min_samples_split=20, n_estimators=10 ..............\n",
      "[CV]  max_depth=9, min_samples_split=20, n_estimators=10, total=   0.9s\n",
      "[CV] max_depth=9, min_samples_split=20, n_estimators=10 ..............\n",
      "[CV]  max_depth=9, min_samples_split=20, n_estimators=10, total=   0.9s\n",
      "[CV] max_depth=9, min_samples_split=20, n_estimators=10 ..............\n",
      "[CV]  max_depth=9, min_samples_split=20, n_estimators=10, total=   1.0s\n",
      "[CV] max_depth=9, min_samples_split=20, n_estimators=20 ..............\n",
      "[CV]  max_depth=9, min_samples_split=20, n_estimators=20, total=   1.8s\n",
      "[CV] max_depth=9, min_samples_split=20, n_estimators=20 ..............\n",
      "[CV]  max_depth=9, min_samples_split=20, n_estimators=20, total=   1.8s\n",
      "[CV] max_depth=9, min_samples_split=20, n_estimators=20 ..............\n",
      "[CV]  max_depth=9, min_samples_split=20, n_estimators=20, total=   1.8s\n",
      "[CV] max_depth=9, min_samples_split=20, n_estimators=20 ..............\n",
      "[CV]  max_depth=9, min_samples_split=20, n_estimators=20, total=   1.8s\n",
      "[CV] max_depth=9, min_samples_split=20, n_estimators=20 ..............\n",
      "[CV]  max_depth=9, min_samples_split=20, n_estimators=20, total=   1.8s\n",
      "[CV] max_depth=9, min_samples_split=20, n_estimators=30 ..............\n",
      "[CV]  max_depth=9, min_samples_split=20, n_estimators=30, total=   2.7s\n",
      "[CV] max_depth=9, min_samples_split=20, n_estimators=30 ..............\n",
      "[CV]  max_depth=9, min_samples_split=20, n_estimators=30, total=   2.7s\n",
      "[CV] max_depth=9, min_samples_split=20, n_estimators=30 ..............\n",
      "[CV]  max_depth=9, min_samples_split=20, n_estimators=30, total=   2.7s\n",
      "[CV] max_depth=9, min_samples_split=20, n_estimators=30 ..............\n",
      "[CV]  max_depth=9, min_samples_split=20, n_estimators=30, total=   2.7s\n",
      "[CV] max_depth=9, min_samples_split=20, n_estimators=30 ..............\n",
      "[CV]  max_depth=9, min_samples_split=20, n_estimators=30, total=   2.7s\n"
     ]
    },
    {
     "name": "stderr",
     "output_type": "stream",
     "text": [
      "[Parallel(n_jobs=1)]: Done 360 out of 360 | elapsed:  8.9min finished\n"
     ]
    },
    {
     "data": {
      "text/plain": [
       "GridSearchCV(cv=5, estimator=RandomForestClassifier(),\n",
       "             param_grid={'max_depth': [4, 5, 6, 7, 8, 9],\n",
       "                         'min_samples_split': [2, 5, 10, 20],\n",
       "                         'n_estimators': (10, 20, 30)},\n",
       "             verbose=2)"
      ]
     },
     "execution_count": 87,
     "metadata": {},
     "output_type": "execute_result"
    }
   ],
   "source": [
    "# Determining best hyperparameters\n",
    "\n",
    "max_depth = [4, 5, 6, 7, 8, 9]\n",
    "min_samples_split = [2, 5, 10, 20]\n",
    "n_estimators = (10, 20, 30)\n",
    "\n",
    "rf_grid = GridSearchCV(estimator=RandomForestClassifier(), cv=5,\n",
    "                       param_grid={\"max_depth\":max_depth, \n",
    "                                   \"min_samples_split\":min_samples_split,\n",
    "                                   \"n_estimators\":n_estimators},\n",
    "                      verbose=2)\n",
    "\n",
    "rf_grid.fit(X_train, Y_train)"
   ]
  },
  {
   "cell_type": "code",
   "execution_count": 88,
   "metadata": {},
   "outputs": [
    {
     "name": "stdout",
     "output_type": "stream",
     "text": [
      "Hyperparameters that give the best score :  {'max_depth': 9, 'min_samples_split': 20, 'n_estimators': 20}\n",
      "Best score :  0.9859598166031708\n"
     ]
    }
   ],
   "source": [
    "print(\"Hyperparameters that give the best score : \", rf_grid.best_params_)\n",
    "print(\"Best score : \", rf_grid.best_score_)"
   ]
  },
  {
   "cell_type": "code",
   "execution_count": 89,
   "metadata": {},
   "outputs": [
    {
     "data": {
      "text/plain": [
       "RandomForestClassifier(max_depth=9, min_samples_split=20, n_estimators=20)"
      ]
     },
     "execution_count": 89,
     "metadata": {},
     "output_type": "execute_result"
    }
   ],
   "source": [
    "drd = RandomForestClassifier(n_estimators = rf_grid.best_params_['n_estimators'], max_depth=rf_grid.best_params_['max_depth'],\n",
    "                           min_samples_split=rf_grid.best_params_['min_samples_split'])\n",
    "drd.fit(X_train, Y_train)"
   ]
  },
  {
   "cell_type": "code",
   "execution_count": 90,
   "metadata": {},
   "outputs": [
    {
     "name": "stdout",
     "output_type": "stream",
     "text": [
      "Predictions on training set...\n",
      "...Done.\n",
      "[0 0 0 ... 0 0 0]\n",
      "\n",
      "Predictions on test set...\n",
      "...Done.\n",
      "[0 0 0 ... 0 0 0]\n",
      "\n"
     ]
    }
   ],
   "source": [
    "# Predictions on training set\n",
    "print(\"Predictions on training set...\")\n",
    "Y_train_pred = drd.predict(X_train)\n",
    "print(\"...Done.\")\n",
    "print(Y_train_pred)\n",
    "print()\n",
    "\n",
    "# Predictions on test set\n",
    "print(\"Predictions on test set...\")\n",
    "Y_test_pred = drd.predict(X_test)\n",
    "print(\"...Done.\")\n",
    "print(Y_test_pred)\n",
    "print()"
   ]
  },
  {
   "cell_type": "markdown",
   "metadata": {},
   "source": [
    "### PERFORMANCE ASSESSMENT"
   ]
  },
  {
   "cell_type": "code",
   "execution_count": 91,
   "metadata": {},
   "outputs": [
    {
     "name": "stdout",
     "output_type": "stream",
     "text": [
      "f1-score on train set :  0.7656483367277663\n",
      "f1-score on test set :  0.7501549907005581\n"
     ]
    }
   ],
   "source": [
    "# The f1-score will be used to assess the performances on the leaderboard\n",
    "print(\"f1-score on train set : \", f1_score(Y_train, drd.predict(X_train)))\n",
    "print(\"f1-score on test set : \", f1_score(Y_test, drd.predict(X_test)))"
   ]
  },
  {
   "cell_type": "code",
   "execution_count": 92,
   "metadata": {},
   "outputs": [
    {
     "name": "stdout",
     "output_type": "stream",
     "text": [
      "              precision    recall  f1-score   support\n",
      "\n",
      "           0       0.99      1.00      0.99     27540\n",
      "           1       0.87      0.66      0.75       918\n",
      "\n",
      "    accuracy                           0.99     28458\n",
      "   macro avg       0.93      0.83      0.87     28458\n",
      "weighted avg       0.98      0.99      0.98     28458\n",
      "\n"
     ]
    }
   ],
   "source": [
    "# Computing other performance metrics to better understand what the model is doing\n",
    "print(classification_report(Y_test, drd.predict(X_test)))"
   ]
  },
  {
   "cell_type": "code",
   "execution_count": null,
   "metadata": {},
   "outputs": [],
   "source": []
  },
  {
   "cell_type": "markdown",
   "metadata": {
    "colab_type": "text",
    "id": "6tVVDRABv91O"
   },
   "source": [
    "## TRAINING BEST CLASSIFIER ON ALL DATA & PREDICTING ON  'X_without_labels'"
   ]
  },
  {
   "cell_type": "code",
   "execution_count": 23,
   "metadata": {
    "colab": {
     "base_uri": "https://localhost:8080/",
     "height": 154
    },
    "colab_type": "code",
    "id": "M14RHUadzE2p",
    "outputId": "abcfcfec-9461-4579-adbd-f23270f984eb"
   },
   "outputs": [
    {
     "data": {
      "text/plain": [
       "LogisticRegression(C=0.0001, penalty='none')"
      ]
     },
     "execution_count": 23,
     "metadata": {},
     "output_type": "execute_result"
    }
   ],
   "source": [
    "# Concatenating the train and test set to train the best classifier on all data with labels\n",
    "X = np.append(X_train,X_test,axis=0)\n",
    "Y = np.append(Y_train,Y_test)\n",
    "\n",
    "classifier = LogisticRegression(C=grid.best_params_['C'], penalty=grid.best_params_['penalty'])\n",
    "\n",
    "classifier.fit(X,Y)"
   ]
  },
  {
   "cell_type": "code",
   "execution_count": 24,
   "metadata": {},
   "outputs": [
    {
     "name": "stdout",
     "output_type": "stream",
     "text": [
      "Prediction set (without labels) : (31620, 5)\n"
     ]
    }
   ],
   "source": [
    "# Reading data without labels\n",
    "data_without_labels = pd.read_csv('conversion_data_test.csv')\n",
    "print('Prediction set (without labels) :', data_without_labels.shape)"
   ]
  },
  {
   "cell_type": "code",
   "execution_count": 25,
   "metadata": {},
   "outputs": [],
   "source": [
    "X_without_labels = data_without_labels.values"
   ]
  },
  {
   "cell_type": "code",
   "execution_count": 26,
   "metadata": {},
   "outputs": [
    {
     "name": "stdout",
     "output_type": "stream",
     "text": [
      "[['UK' 28 0 'Seo' 16]\n",
      " ['UK' 22 1 'Direct' 5]\n",
      " ['China' 32 1 'Seo' 1]\n",
      " ['US' 32 1 'Ads' 6]\n",
      " ['China' 25 0 'Seo' 3]]\n"
     ]
    }
   ],
   "source": [
    "print(X_without_labels[0:5,:])"
   ]
  },
  {
   "cell_type": "code",
   "execution_count": 27,
   "metadata": {},
   "outputs": [
    {
     "data": {
      "text/plain": [
       "array([[ 1.        , -0.31023163, -1.47788912, ...,  0.        ,\n",
       "         0.        ,  1.        ],\n",
       "       [ 1.        , -1.03484082,  0.67664075, ...,  0.        ,\n",
       "         1.        ,  0.        ],\n",
       "       [ 1.        ,  0.17284116,  0.67664075, ...,  0.        ,\n",
       "         0.        ,  1.        ],\n",
       "       ...,\n",
       "       [ 1.        ,  0.29360936,  0.67664075, ...,  0.        ,\n",
       "         0.        ,  1.        ],\n",
       "       [ 1.        , -0.67253622,  0.67664075, ...,  0.        ,\n",
       "         0.        ,  1.        ],\n",
       "       [ 1.        , -1.03484082,  0.67664075, ...,  1.        ,\n",
       "         0.        ,  1.        ]])"
      ]
     },
     "execution_count": 27,
     "metadata": {},
     "output_type": "execute_result"
    }
   ],
   "source": [
    "# Processing (same processing as for the test set)\n",
    "\n",
    "preprocessor.transform(X_without_labels)"
   ]
  },
  {
   "cell_type": "code",
   "execution_count": 28,
   "metadata": {
    "colab": {
     "base_uri": "https://localhost:8080/",
     "height": 151
    },
    "colab_type": "code",
    "id": "Tr4CEaPzzbP-",
    "outputId": "f0d1c8ed-be4b-4974-d7b9-f23a49344d9d"
   },
   "outputs": [
    {
     "name": "stdout",
     "output_type": "stream",
     "text": [
      "Prediction set (without labels) : (31620, 5)\n",
      "Convert pandas DataFrames to numpy arrays...\n",
      "...Done\n",
      "[['UK' 28 0 'Seo' 16]\n",
      " ['UK' 22 1 'Direct' 5]\n",
      " ['China' 32 1 'Seo' 1]\n",
      " ['US' 32 1 'Ads' 6]\n",
      " ['China' 25 0 'Seo' 3]]\n"
     ]
    }
   ],
   "source": [
    "# Reading data without labels\n",
    "data_without_labels = pd.read_csv('conversion_data_test.csv')\n",
    "print('Prediction set (without labels) :', data_without_labels.shape)\n",
    "\n",
    "# Converting pandas DataFrames to numpy arrays before using scikit-learn\n",
    "print(\"Convert pandas DataFrames to numpy arrays...\")\n",
    "X_without_labels = data_without_labels.values\n",
    "print(\"...Done\")\n",
    "\n",
    "print(X_without_labels[0:5,:])"
   ]
  },
  {
   "cell_type": "code",
   "execution_count": 29,
   "metadata": {
    "colab": {
     "base_uri": "https://localhost:8080/",
     "height": 134
    },
    "colab_type": "code",
    "id": "LoUISfsT0HMR",
    "outputId": "e42dc389-5e77-4e13-ccbc-1fef4aa2c0ca"
   },
   "outputs": [
    {
     "name": "stdout",
     "output_type": "stream",
     "text": [
      "Encoding categorical features and standardizing numerical features...\n",
      "...Done\n",
      "[[ 1.00000000e+00 -3.10231630e-01 -1.47788912e+00  3.32960038e+00\n",
      "   9.62436641e-02  4.58487952e-01 -1.03294735e+00  2.18415626e+00\n",
      "  -4.92078019e+00  1.10862387e+01  0.00000000e+00  1.00000000e+00\n",
      "   0.00000000e+00  0.00000000e+00  1.00000000e+00]\n",
      " [ 1.00000000e+00 -1.03484082e+00  6.76640746e-01  3.79362977e-02\n",
      "   1.07089552e+00 -7.00215464e-01 -3.92580293e-02  4.57842700e-01\n",
      "   2.56692448e-02  1.43916268e-03  0.00000000e+00  1.00000000e+00\n",
      "   0.00000000e+00  1.00000000e+00  0.00000000e+00]\n",
      " [ 1.00000000e+00  1.72841163e-01  6.76640746e-01 -1.15903246e+00\n",
      "   2.98740675e-02  1.16951373e-01 -2.00328518e-01  4.57842700e-01\n",
      "  -7.84248588e-01  1.34335624e+00  0.00000000e+00  0.00000000e+00\n",
      "   0.00000000e+00  0.00000000e+00  1.00000000e+00]\n",
      " [ 1.00000000e+00  1.72841163e-01  6.76640746e-01  3.37178487e-01\n",
      "   2.98740675e-02  1.16951373e-01  5.82783217e-02  4.57842700e-01\n",
      "   2.28148703e-01  1.13689332e-01  0.00000000e+00  0.00000000e+00\n",
      "   1.00000000e+00  0.00000000e+00  0.00000000e+00]\n",
      " [ 1.00000000e+00 -6.72536224e-01 -1.47788912e+00 -5.60548081e-01\n",
      "   4.52304973e-01  9.93933971e-01  3.76988890e-01  2.18415626e+00\n",
      "   8.28427912e-01  3.14214151e-01  0.00000000e+00  0.00000000e+00\n",
      "   0.00000000e+00  0.00000000e+00  1.00000000e+00]]\n"
     ]
    }
   ],
   "source": [
    "# Processing (same processing as for the test set)\n",
    "print(\"Encoding categorical features and standardizing numerical features...\")\n",
    "X_without_labels = preprocessor.transform(X_without_labels)\n",
    "print(\"...Done\")\n",
    "print(X_without_labels[0:5,:])"
   ]
  },
  {
   "cell_type": "code",
   "execution_count": 30,
   "metadata": {
    "colab": {},
    "colab_type": "code",
    "id": "7DuWSEHuwEQJ"
   },
   "outputs": [],
   "source": [
    "# Making predictions and dumping to file\n",
    "data = {\n",
    "    'converted': classifier.predict(X_without_labels)\n",
    "}\n",
    "\n",
    "Y_predictions = pd.DataFrame(columns=['converted'],data=data)\n",
    "Y_predictions.to_csv('conversion_data_test_predictions_Random_Forest.csv', index=False)\n"
   ]
  },
  {
   "cell_type": "code",
   "execution_count": null,
   "metadata": {
    "colab": {},
    "colab_type": "code",
    "id": "zqnGkA0jyWaX"
   },
   "outputs": [],
   "source": []
  }
 ],
 "metadata": {
  "colab": {
   "collapsed_sections": [],
   "name": "Projets_template.ipynb",
   "provenance": []
  },
  "kernelspec": {
   "display_name": "Python 3",
   "language": "python",
   "name": "python3"
  },
  "language_info": {
   "codemirror_mode": {
    "name": "ipython",
    "version": 3
   },
   "file_extension": ".py",
   "mimetype": "text/x-python",
   "name": "python",
   "nbconvert_exporter": "python",
   "pygments_lexer": "ipython3",
   "version": "3.8.6"
  }
 },
 "nbformat": 4,
 "nbformat_minor": 4
}
